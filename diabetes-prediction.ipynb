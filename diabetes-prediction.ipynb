{
 "cells": [
  {
   "cell_type": "markdown",
   "id": "e5e00c08",
   "metadata": {
    "papermill": {
     "duration": 0.006923,
     "end_time": "2025-01-07T09:21:29.295265",
     "exception": false,
     "start_time": "2025-01-07T09:21:29.288342",
     "status": "completed"
    },
    "tags": []
   },
   "source": [
    "### Importing the Dependencies"
   ]
  },
  {
   "cell_type": "code",
   "execution_count": 1,
   "id": "d5a22ada",
   "metadata": {
    "_cell_guid": "b1076dfc-b9ad-4769-8c92-a6c4dae69d19",
    "_uuid": "8f2839f25d086af736a60e9eeb907d3b93b6e0e5",
    "execution": {
     "iopub.execute_input": "2025-01-07T09:21:29.309642Z",
     "iopub.status.busy": "2025-01-07T09:21:29.309214Z",
     "iopub.status.idle": "2025-01-07T09:21:31.924148Z",
     "shell.execute_reply": "2025-01-07T09:21:31.923046Z"
    },
    "papermill": {
     "duration": 2.624282,
     "end_time": "2025-01-07T09:21:31.926004",
     "exception": false,
     "start_time": "2025-01-07T09:21:29.301722",
     "status": "completed"
    },
    "tags": []
   },
   "outputs": [],
   "source": [
    "import numpy as np\n",
    "import pandas as pd\n",
    "from sklearn.preprocessing import StandardScaler\n",
    "from sklearn.model_selection import train_test_split\n",
    "from sklearn import svm\n",
    "from sklearn.metrics import accuracy_score"
   ]
  },
  {
   "cell_type": "markdown",
   "id": "d88c536f",
   "metadata": {
    "papermill": {
     "duration": 0.007282,
     "end_time": "2025-01-07T09:21:31.940740",
     "exception": false,
     "start_time": "2025-01-07T09:21:31.933458",
     "status": "completed"
    },
    "tags": []
   },
   "source": [
    "### Data Collection and Analysis \n",
    "\n",
    "### PIMA Diabetes Dataset"
   ]
  },
  {
   "cell_type": "code",
   "execution_count": 2,
   "id": "b849a338",
   "metadata": {
    "execution": {
     "iopub.execute_input": "2025-01-07T09:21:31.956668Z",
     "iopub.status.busy": "2025-01-07T09:21:31.956167Z",
     "iopub.status.idle": "2025-01-07T09:21:31.976959Z",
     "shell.execute_reply": "2025-01-07T09:21:31.975949Z"
    },
    "papermill": {
     "duration": 0.029988,
     "end_time": "2025-01-07T09:21:31.978883",
     "exception": false,
     "start_time": "2025-01-07T09:21:31.948895",
     "status": "completed"
    },
    "tags": []
   },
   "outputs": [],
   "source": [
    "# loading the diabetes dataset to a pandas DataFrame\n",
    "diabetes_dataset = pd.read_csv('/kaggle/input/diabetes/diabetes.csv')"
   ]
  },
  {
   "cell_type": "code",
   "execution_count": 3,
   "id": "3974ae4f",
   "metadata": {
    "execution": {
     "iopub.execute_input": "2025-01-07T09:21:31.993112Z",
     "iopub.status.busy": "2025-01-07T09:21:31.992703Z",
     "iopub.status.idle": "2025-01-07T09:21:32.017091Z",
     "shell.execute_reply": "2025-01-07T09:21:32.015991Z"
    },
    "papermill": {
     "duration": 0.033244,
     "end_time": "2025-01-07T09:21:32.018860",
     "exception": false,
     "start_time": "2025-01-07T09:21:31.985616",
     "status": "completed"
    },
    "tags": []
   },
   "outputs": [
    {
     "data": {
      "text/html": [
       "<div>\n",
       "<style scoped>\n",
       "    .dataframe tbody tr th:only-of-type {\n",
       "        vertical-align: middle;\n",
       "    }\n",
       "\n",
       "    .dataframe tbody tr th {\n",
       "        vertical-align: top;\n",
       "    }\n",
       "\n",
       "    .dataframe thead th {\n",
       "        text-align: right;\n",
       "    }\n",
       "</style>\n",
       "<table border=\"1\" class=\"dataframe\">\n",
       "  <thead>\n",
       "    <tr style=\"text-align: right;\">\n",
       "      <th></th>\n",
       "      <th>Pregnancies</th>\n",
       "      <th>Glucose</th>\n",
       "      <th>BloodPressure</th>\n",
       "      <th>SkinThickness</th>\n",
       "      <th>Insulin</th>\n",
       "      <th>BMI</th>\n",
       "      <th>DiabetesPedigreeFunction</th>\n",
       "      <th>Age</th>\n",
       "      <th>Outcome</th>\n",
       "    </tr>\n",
       "  </thead>\n",
       "  <tbody>\n",
       "    <tr>\n",
       "      <th>0</th>\n",
       "      <td>6</td>\n",
       "      <td>148</td>\n",
       "      <td>72</td>\n",
       "      <td>35</td>\n",
       "      <td>0</td>\n",
       "      <td>33.6</td>\n",
       "      <td>0.627</td>\n",
       "      <td>50</td>\n",
       "      <td>1</td>\n",
       "    </tr>\n",
       "    <tr>\n",
       "      <th>1</th>\n",
       "      <td>1</td>\n",
       "      <td>85</td>\n",
       "      <td>66</td>\n",
       "      <td>29</td>\n",
       "      <td>0</td>\n",
       "      <td>26.6</td>\n",
       "      <td>0.351</td>\n",
       "      <td>31</td>\n",
       "      <td>0</td>\n",
       "    </tr>\n",
       "    <tr>\n",
       "      <th>2</th>\n",
       "      <td>8</td>\n",
       "      <td>183</td>\n",
       "      <td>64</td>\n",
       "      <td>0</td>\n",
       "      <td>0</td>\n",
       "      <td>23.3</td>\n",
       "      <td>0.672</td>\n",
       "      <td>32</td>\n",
       "      <td>1</td>\n",
       "    </tr>\n",
       "    <tr>\n",
       "      <th>3</th>\n",
       "      <td>1</td>\n",
       "      <td>89</td>\n",
       "      <td>66</td>\n",
       "      <td>23</td>\n",
       "      <td>94</td>\n",
       "      <td>28.1</td>\n",
       "      <td>0.167</td>\n",
       "      <td>21</td>\n",
       "      <td>0</td>\n",
       "    </tr>\n",
       "    <tr>\n",
       "      <th>4</th>\n",
       "      <td>0</td>\n",
       "      <td>137</td>\n",
       "      <td>40</td>\n",
       "      <td>35</td>\n",
       "      <td>168</td>\n",
       "      <td>43.1</td>\n",
       "      <td>2.288</td>\n",
       "      <td>33</td>\n",
       "      <td>1</td>\n",
       "    </tr>\n",
       "  </tbody>\n",
       "</table>\n",
       "</div>"
      ],
      "text/plain": [
       "   Pregnancies  Glucose  BloodPressure  SkinThickness  Insulin   BMI  \\\n",
       "0            6      148             72             35        0  33.6   \n",
       "1            1       85             66             29        0  26.6   \n",
       "2            8      183             64              0        0  23.3   \n",
       "3            1       89             66             23       94  28.1   \n",
       "4            0      137             40             35      168  43.1   \n",
       "\n",
       "   DiabetesPedigreeFunction  Age  Outcome  \n",
       "0                     0.627   50        1  \n",
       "1                     0.351   31        0  \n",
       "2                     0.672   32        1  \n",
       "3                     0.167   21        0  \n",
       "4                     2.288   33        1  "
      ]
     },
     "execution_count": 3,
     "metadata": {},
     "output_type": "execute_result"
    }
   ],
   "source": [
    "# printing the first 5 rows of the dataset\n",
    "diabetes_dataset.head()"
   ]
  },
  {
   "cell_type": "code",
   "execution_count": 4,
   "id": "2cd4e34f",
   "metadata": {
    "execution": {
     "iopub.execute_input": "2025-01-07T09:21:32.033102Z",
     "iopub.status.busy": "2025-01-07T09:21:32.032719Z",
     "iopub.status.idle": "2025-01-07T09:21:32.038456Z",
     "shell.execute_reply": "2025-01-07T09:21:32.037205Z"
    },
    "papermill": {
     "duration": 0.01458,
     "end_time": "2025-01-07T09:21:32.040046",
     "exception": false,
     "start_time": "2025-01-07T09:21:32.025466",
     "status": "completed"
    },
    "tags": []
   },
   "outputs": [
    {
     "data": {
      "text/plain": [
       "(768, 9)"
      ]
     },
     "execution_count": 4,
     "metadata": {},
     "output_type": "execute_result"
    }
   ],
   "source": [
    "# number of rows and columns in this dataset\n",
    "diabetes_dataset.shape"
   ]
  },
  {
   "cell_type": "code",
   "execution_count": 5,
   "id": "afe2b528",
   "metadata": {
    "execution": {
     "iopub.execute_input": "2025-01-07T09:21:32.054281Z",
     "iopub.status.busy": "2025-01-07T09:21:32.053895Z",
     "iopub.status.idle": "2025-01-07T09:21:32.088549Z",
     "shell.execute_reply": "2025-01-07T09:21:32.087469Z"
    },
    "papermill": {
     "duration": 0.043655,
     "end_time": "2025-01-07T09:21:32.090225",
     "exception": false,
     "start_time": "2025-01-07T09:21:32.046570",
     "status": "completed"
    },
    "tags": []
   },
   "outputs": [
    {
     "data": {
      "text/html": [
       "<div>\n",
       "<style scoped>\n",
       "    .dataframe tbody tr th:only-of-type {\n",
       "        vertical-align: middle;\n",
       "    }\n",
       "\n",
       "    .dataframe tbody tr th {\n",
       "        vertical-align: top;\n",
       "    }\n",
       "\n",
       "    .dataframe thead th {\n",
       "        text-align: right;\n",
       "    }\n",
       "</style>\n",
       "<table border=\"1\" class=\"dataframe\">\n",
       "  <thead>\n",
       "    <tr style=\"text-align: right;\">\n",
       "      <th></th>\n",
       "      <th>Pregnancies</th>\n",
       "      <th>Glucose</th>\n",
       "      <th>BloodPressure</th>\n",
       "      <th>SkinThickness</th>\n",
       "      <th>Insulin</th>\n",
       "      <th>BMI</th>\n",
       "      <th>DiabetesPedigreeFunction</th>\n",
       "      <th>Age</th>\n",
       "      <th>Outcome</th>\n",
       "    </tr>\n",
       "  </thead>\n",
       "  <tbody>\n",
       "    <tr>\n",
       "      <th>count</th>\n",
       "      <td>768.000000</td>\n",
       "      <td>768.000000</td>\n",
       "      <td>768.000000</td>\n",
       "      <td>768.000000</td>\n",
       "      <td>768.000000</td>\n",
       "      <td>768.000000</td>\n",
       "      <td>768.000000</td>\n",
       "      <td>768.000000</td>\n",
       "      <td>768.000000</td>\n",
       "    </tr>\n",
       "    <tr>\n",
       "      <th>mean</th>\n",
       "      <td>3.845052</td>\n",
       "      <td>120.894531</td>\n",
       "      <td>69.105469</td>\n",
       "      <td>20.536458</td>\n",
       "      <td>79.799479</td>\n",
       "      <td>31.992578</td>\n",
       "      <td>0.471876</td>\n",
       "      <td>33.240885</td>\n",
       "      <td>0.348958</td>\n",
       "    </tr>\n",
       "    <tr>\n",
       "      <th>std</th>\n",
       "      <td>3.369578</td>\n",
       "      <td>31.972618</td>\n",
       "      <td>19.355807</td>\n",
       "      <td>15.952218</td>\n",
       "      <td>115.244002</td>\n",
       "      <td>7.884160</td>\n",
       "      <td>0.331329</td>\n",
       "      <td>11.760232</td>\n",
       "      <td>0.476951</td>\n",
       "    </tr>\n",
       "    <tr>\n",
       "      <th>min</th>\n",
       "      <td>0.000000</td>\n",
       "      <td>0.000000</td>\n",
       "      <td>0.000000</td>\n",
       "      <td>0.000000</td>\n",
       "      <td>0.000000</td>\n",
       "      <td>0.000000</td>\n",
       "      <td>0.078000</td>\n",
       "      <td>21.000000</td>\n",
       "      <td>0.000000</td>\n",
       "    </tr>\n",
       "    <tr>\n",
       "      <th>25%</th>\n",
       "      <td>1.000000</td>\n",
       "      <td>99.000000</td>\n",
       "      <td>62.000000</td>\n",
       "      <td>0.000000</td>\n",
       "      <td>0.000000</td>\n",
       "      <td>27.300000</td>\n",
       "      <td>0.243750</td>\n",
       "      <td>24.000000</td>\n",
       "      <td>0.000000</td>\n",
       "    </tr>\n",
       "    <tr>\n",
       "      <th>50%</th>\n",
       "      <td>3.000000</td>\n",
       "      <td>117.000000</td>\n",
       "      <td>72.000000</td>\n",
       "      <td>23.000000</td>\n",
       "      <td>30.500000</td>\n",
       "      <td>32.000000</td>\n",
       "      <td>0.372500</td>\n",
       "      <td>29.000000</td>\n",
       "      <td>0.000000</td>\n",
       "    </tr>\n",
       "    <tr>\n",
       "      <th>75%</th>\n",
       "      <td>6.000000</td>\n",
       "      <td>140.250000</td>\n",
       "      <td>80.000000</td>\n",
       "      <td>32.000000</td>\n",
       "      <td>127.250000</td>\n",
       "      <td>36.600000</td>\n",
       "      <td>0.626250</td>\n",
       "      <td>41.000000</td>\n",
       "      <td>1.000000</td>\n",
       "    </tr>\n",
       "    <tr>\n",
       "      <th>max</th>\n",
       "      <td>17.000000</td>\n",
       "      <td>199.000000</td>\n",
       "      <td>122.000000</td>\n",
       "      <td>99.000000</td>\n",
       "      <td>846.000000</td>\n",
       "      <td>67.100000</td>\n",
       "      <td>2.420000</td>\n",
       "      <td>81.000000</td>\n",
       "      <td>1.000000</td>\n",
       "    </tr>\n",
       "  </tbody>\n",
       "</table>\n",
       "</div>"
      ],
      "text/plain": [
       "       Pregnancies     Glucose  BloodPressure  SkinThickness     Insulin  \\\n",
       "count   768.000000  768.000000     768.000000     768.000000  768.000000   \n",
       "mean      3.845052  120.894531      69.105469      20.536458   79.799479   \n",
       "std       3.369578   31.972618      19.355807      15.952218  115.244002   \n",
       "min       0.000000    0.000000       0.000000       0.000000    0.000000   \n",
       "25%       1.000000   99.000000      62.000000       0.000000    0.000000   \n",
       "50%       3.000000  117.000000      72.000000      23.000000   30.500000   \n",
       "75%       6.000000  140.250000      80.000000      32.000000  127.250000   \n",
       "max      17.000000  199.000000     122.000000      99.000000  846.000000   \n",
       "\n",
       "              BMI  DiabetesPedigreeFunction         Age     Outcome  \n",
       "count  768.000000                768.000000  768.000000  768.000000  \n",
       "mean    31.992578                  0.471876   33.240885    0.348958  \n",
       "std      7.884160                  0.331329   11.760232    0.476951  \n",
       "min      0.000000                  0.078000   21.000000    0.000000  \n",
       "25%     27.300000                  0.243750   24.000000    0.000000  \n",
       "50%     32.000000                  0.372500   29.000000    0.000000  \n",
       "75%     36.600000                  0.626250   41.000000    1.000000  \n",
       "max     67.100000                  2.420000   81.000000    1.000000  "
      ]
     },
     "execution_count": 5,
     "metadata": {},
     "output_type": "execute_result"
    }
   ],
   "source": [
    "# getting the statistical measures of the data\n",
    "diabetes_dataset.describe()"
   ]
  },
  {
   "cell_type": "code",
   "execution_count": 6,
   "id": "46a1f87b",
   "metadata": {
    "execution": {
     "iopub.execute_input": "2025-01-07T09:21:32.105362Z",
     "iopub.status.busy": "2025-01-07T09:21:32.105005Z",
     "iopub.status.idle": "2025-01-07T09:21:32.120059Z",
     "shell.execute_reply": "2025-01-07T09:21:32.118791Z"
    },
    "papermill": {
     "duration": 0.024511,
     "end_time": "2025-01-07T09:21:32.121746",
     "exception": false,
     "start_time": "2025-01-07T09:21:32.097235",
     "status": "completed"
    },
    "tags": []
   },
   "outputs": [
    {
     "data": {
      "text/plain": [
       "Outcome\n",
       "0    500\n",
       "1    268\n",
       "Name: count, dtype: int64"
      ]
     },
     "execution_count": 6,
     "metadata": {},
     "output_type": "execute_result"
    }
   ],
   "source": [
    "diabetes_dataset['Outcome'].value_counts()"
   ]
  },
  {
   "cell_type": "markdown",
   "id": "9b3d9416",
   "metadata": {
    "papermill": {
     "duration": 0.007184,
     "end_time": "2025-01-07T09:21:32.135825",
     "exception": false,
     "start_time": "2025-01-07T09:21:32.128641",
     "status": "completed"
    },
    "tags": []
   },
   "source": [
    "0 --> Non-Diabetic\n",
    "\n",
    "1 --> Diabetic"
   ]
  },
  {
   "cell_type": "code",
   "execution_count": 7,
   "id": "b429b9e0",
   "metadata": {
    "execution": {
     "iopub.execute_input": "2025-01-07T09:21:32.150750Z",
     "iopub.status.busy": "2025-01-07T09:21:32.150336Z",
     "iopub.status.idle": "2025-01-07T09:21:32.175485Z",
     "shell.execute_reply": "2025-01-07T09:21:32.174454Z"
    },
    "papermill": {
     "duration": 0.034606,
     "end_time": "2025-01-07T09:21:32.177223",
     "exception": false,
     "start_time": "2025-01-07T09:21:32.142617",
     "status": "completed"
    },
    "tags": []
   },
   "outputs": [
    {
     "data": {
      "text/html": [
       "<div>\n",
       "<style scoped>\n",
       "    .dataframe tbody tr th:only-of-type {\n",
       "        vertical-align: middle;\n",
       "    }\n",
       "\n",
       "    .dataframe tbody tr th {\n",
       "        vertical-align: top;\n",
       "    }\n",
       "\n",
       "    .dataframe thead th {\n",
       "        text-align: right;\n",
       "    }\n",
       "</style>\n",
       "<table border=\"1\" class=\"dataframe\">\n",
       "  <thead>\n",
       "    <tr style=\"text-align: right;\">\n",
       "      <th></th>\n",
       "      <th>Pregnancies</th>\n",
       "      <th>Glucose</th>\n",
       "      <th>BloodPressure</th>\n",
       "      <th>SkinThickness</th>\n",
       "      <th>Insulin</th>\n",
       "      <th>BMI</th>\n",
       "      <th>DiabetesPedigreeFunction</th>\n",
       "      <th>Age</th>\n",
       "    </tr>\n",
       "    <tr>\n",
       "      <th>Outcome</th>\n",
       "      <th></th>\n",
       "      <th></th>\n",
       "      <th></th>\n",
       "      <th></th>\n",
       "      <th></th>\n",
       "      <th></th>\n",
       "      <th></th>\n",
       "      <th></th>\n",
       "    </tr>\n",
       "  </thead>\n",
       "  <tbody>\n",
       "    <tr>\n",
       "      <th>0</th>\n",
       "      <td>3.298000</td>\n",
       "      <td>109.980000</td>\n",
       "      <td>68.184000</td>\n",
       "      <td>19.664000</td>\n",
       "      <td>68.792000</td>\n",
       "      <td>30.304200</td>\n",
       "      <td>0.429734</td>\n",
       "      <td>31.190000</td>\n",
       "    </tr>\n",
       "    <tr>\n",
       "      <th>1</th>\n",
       "      <td>4.865672</td>\n",
       "      <td>141.257463</td>\n",
       "      <td>70.824627</td>\n",
       "      <td>22.164179</td>\n",
       "      <td>100.335821</td>\n",
       "      <td>35.142537</td>\n",
       "      <td>0.550500</td>\n",
       "      <td>37.067164</td>\n",
       "    </tr>\n",
       "  </tbody>\n",
       "</table>\n",
       "</div>"
      ],
      "text/plain": [
       "         Pregnancies     Glucose  BloodPressure  SkinThickness     Insulin  \\\n",
       "Outcome                                                                      \n",
       "0           3.298000  109.980000      68.184000      19.664000   68.792000   \n",
       "1           4.865672  141.257463      70.824627      22.164179  100.335821   \n",
       "\n",
       "               BMI  DiabetesPedigreeFunction        Age  \n",
       "Outcome                                                  \n",
       "0        30.304200                  0.429734  31.190000  \n",
       "1        35.142537                  0.550500  37.067164  "
      ]
     },
     "execution_count": 7,
     "metadata": {},
     "output_type": "execute_result"
    }
   ],
   "source": [
    "diabetes_dataset.groupby('Outcome').mean()"
   ]
  },
  {
   "cell_type": "code",
   "execution_count": 8,
   "id": "b256c25c",
   "metadata": {
    "execution": {
     "iopub.execute_input": "2025-01-07T09:21:32.193400Z",
     "iopub.status.busy": "2025-01-07T09:21:32.193062Z",
     "iopub.status.idle": "2025-01-07T09:21:32.199978Z",
     "shell.execute_reply": "2025-01-07T09:21:32.199026Z"
    },
    "papermill": {
     "duration": 0.016846,
     "end_time": "2025-01-07T09:21:32.201812",
     "exception": false,
     "start_time": "2025-01-07T09:21:32.184966",
     "status": "completed"
    },
    "tags": []
   },
   "outputs": [],
   "source": [
    "# separating the data and labels\n",
    "X = diabetes_dataset.drop(columns='Outcome', axis=1)\n",
    "Y = diabetes_dataset['Outcome']"
   ]
  },
  {
   "cell_type": "code",
   "execution_count": 9,
   "id": "f40fb71e",
   "metadata": {
    "execution": {
     "iopub.execute_input": "2025-01-07T09:21:32.217445Z",
     "iopub.status.busy": "2025-01-07T09:21:32.217072Z",
     "iopub.status.idle": "2025-01-07T09:21:32.226670Z",
     "shell.execute_reply": "2025-01-07T09:21:32.225343Z"
    },
    "papermill": {
     "duration": 0.019255,
     "end_time": "2025-01-07T09:21:32.228285",
     "exception": false,
     "start_time": "2025-01-07T09:21:32.209030",
     "status": "completed"
    },
    "tags": []
   },
   "outputs": [
    {
     "name": "stdout",
     "output_type": "stream",
     "text": [
      "     Pregnancies  Glucose  BloodPressure  SkinThickness  Insulin   BMI  \\\n",
      "0              6      148             72             35        0  33.6   \n",
      "1              1       85             66             29        0  26.6   \n",
      "2              8      183             64              0        0  23.3   \n",
      "3              1       89             66             23       94  28.1   \n",
      "4              0      137             40             35      168  43.1   \n",
      "..           ...      ...            ...            ...      ...   ...   \n",
      "763           10      101             76             48      180  32.9   \n",
      "764            2      122             70             27        0  36.8   \n",
      "765            5      121             72             23      112  26.2   \n",
      "766            1      126             60              0        0  30.1   \n",
      "767            1       93             70             31        0  30.4   \n",
      "\n",
      "     DiabetesPedigreeFunction  Age  \n",
      "0                       0.627   50  \n",
      "1                       0.351   31  \n",
      "2                       0.672   32  \n",
      "3                       0.167   21  \n",
      "4                       2.288   33  \n",
      "..                        ...  ...  \n",
      "763                     0.171   63  \n",
      "764                     0.340   27  \n",
      "765                     0.245   30  \n",
      "766                     0.349   47  \n",
      "767                     0.315   23  \n",
      "\n",
      "[768 rows x 8 columns]\n"
     ]
    }
   ],
   "source": [
    "print(X)"
   ]
  },
  {
   "cell_type": "code",
   "execution_count": 10,
   "id": "602f3ec2",
   "metadata": {
    "execution": {
     "iopub.execute_input": "2025-01-07T09:21:32.243725Z",
     "iopub.status.busy": "2025-01-07T09:21:32.243372Z",
     "iopub.status.idle": "2025-01-07T09:21:32.249069Z",
     "shell.execute_reply": "2025-01-07T09:21:32.247968Z"
    },
    "papermill": {
     "duration": 0.015386,
     "end_time": "2025-01-07T09:21:32.250778",
     "exception": false,
     "start_time": "2025-01-07T09:21:32.235392",
     "status": "completed"
    },
    "tags": []
   },
   "outputs": [
    {
     "name": "stdout",
     "output_type": "stream",
     "text": [
      "0      1\n",
      "1      0\n",
      "2      1\n",
      "3      0\n",
      "4      1\n",
      "      ..\n",
      "763    0\n",
      "764    0\n",
      "765    0\n",
      "766    1\n",
      "767    0\n",
      "Name: Outcome, Length: 768, dtype: int64\n"
     ]
    }
   ],
   "source": [
    "print(Y)"
   ]
  },
  {
   "cell_type": "markdown",
   "id": "ea33ad07",
   "metadata": {
    "papermill": {
     "duration": 0.006892,
     "end_time": "2025-01-07T09:21:32.265123",
     "exception": false,
     "start_time": "2025-01-07T09:21:32.258231",
     "status": "completed"
    },
    "tags": []
   },
   "source": [
    "### Data Standardization"
   ]
  },
  {
   "cell_type": "code",
   "execution_count": 11,
   "id": "1acd810c",
   "metadata": {
    "execution": {
     "iopub.execute_input": "2025-01-07T09:21:32.280713Z",
     "iopub.status.busy": "2025-01-07T09:21:32.280362Z",
     "iopub.status.idle": "2025-01-07T09:21:32.284324Z",
     "shell.execute_reply": "2025-01-07T09:21:32.283335Z"
    },
    "papermill": {
     "duration": 0.013595,
     "end_time": "2025-01-07T09:21:32.285857",
     "exception": false,
     "start_time": "2025-01-07T09:21:32.272262",
     "status": "completed"
    },
    "tags": []
   },
   "outputs": [],
   "source": [
    "scaler = StandardScaler()"
   ]
  },
  {
   "cell_type": "code",
   "execution_count": 12,
   "id": "bf8b856f",
   "metadata": {
    "execution": {
     "iopub.execute_input": "2025-01-07T09:21:32.302262Z",
     "iopub.status.busy": "2025-01-07T09:21:32.301886Z",
     "iopub.status.idle": "2025-01-07T09:21:32.317141Z",
     "shell.execute_reply": "2025-01-07T09:21:32.316070Z"
    },
    "papermill": {
     "duration": 0.025166,
     "end_time": "2025-01-07T09:21:32.318778",
     "exception": false,
     "start_time": "2025-01-07T09:21:32.293612",
     "status": "completed"
    },
    "tags": []
   },
   "outputs": [
    {
     "data": {
      "text/html": [
       "<style>#sk-container-id-1 {color: black;background-color: white;}#sk-container-id-1 pre{padding: 0;}#sk-container-id-1 div.sk-toggleable {background-color: white;}#sk-container-id-1 label.sk-toggleable__label {cursor: pointer;display: block;width: 100%;margin-bottom: 0;padding: 0.3em;box-sizing: border-box;text-align: center;}#sk-container-id-1 label.sk-toggleable__label-arrow:before {content: \"▸\";float: left;margin-right: 0.25em;color: #696969;}#sk-container-id-1 label.sk-toggleable__label-arrow:hover:before {color: black;}#sk-container-id-1 div.sk-estimator:hover label.sk-toggleable__label-arrow:before {color: black;}#sk-container-id-1 div.sk-toggleable__content {max-height: 0;max-width: 0;overflow: hidden;text-align: left;background-color: #f0f8ff;}#sk-container-id-1 div.sk-toggleable__content pre {margin: 0.2em;color: black;border-radius: 0.25em;background-color: #f0f8ff;}#sk-container-id-1 input.sk-toggleable__control:checked~div.sk-toggleable__content {max-height: 200px;max-width: 100%;overflow: auto;}#sk-container-id-1 input.sk-toggleable__control:checked~label.sk-toggleable__label-arrow:before {content: \"▾\";}#sk-container-id-1 div.sk-estimator input.sk-toggleable__control:checked~label.sk-toggleable__label {background-color: #d4ebff;}#sk-container-id-1 div.sk-label input.sk-toggleable__control:checked~label.sk-toggleable__label {background-color: #d4ebff;}#sk-container-id-1 input.sk-hidden--visually {border: 0;clip: rect(1px 1px 1px 1px);clip: rect(1px, 1px, 1px, 1px);height: 1px;margin: -1px;overflow: hidden;padding: 0;position: absolute;width: 1px;}#sk-container-id-1 div.sk-estimator {font-family: monospace;background-color: #f0f8ff;border: 1px dotted black;border-radius: 0.25em;box-sizing: border-box;margin-bottom: 0.5em;}#sk-container-id-1 div.sk-estimator:hover {background-color: #d4ebff;}#sk-container-id-1 div.sk-parallel-item::after {content: \"\";width: 100%;border-bottom: 1px solid gray;flex-grow: 1;}#sk-container-id-1 div.sk-label:hover label.sk-toggleable__label {background-color: #d4ebff;}#sk-container-id-1 div.sk-serial::before {content: \"\";position: absolute;border-left: 1px solid gray;box-sizing: border-box;top: 0;bottom: 0;left: 50%;z-index: 0;}#sk-container-id-1 div.sk-serial {display: flex;flex-direction: column;align-items: center;background-color: white;padding-right: 0.2em;padding-left: 0.2em;position: relative;}#sk-container-id-1 div.sk-item {position: relative;z-index: 1;}#sk-container-id-1 div.sk-parallel {display: flex;align-items: stretch;justify-content: center;background-color: white;position: relative;}#sk-container-id-1 div.sk-item::before, #sk-container-id-1 div.sk-parallel-item::before {content: \"\";position: absolute;border-left: 1px solid gray;box-sizing: border-box;top: 0;bottom: 0;left: 50%;z-index: -1;}#sk-container-id-1 div.sk-parallel-item {display: flex;flex-direction: column;z-index: 1;position: relative;background-color: white;}#sk-container-id-1 div.sk-parallel-item:first-child::after {align-self: flex-end;width: 50%;}#sk-container-id-1 div.sk-parallel-item:last-child::after {align-self: flex-start;width: 50%;}#sk-container-id-1 div.sk-parallel-item:only-child::after {width: 0;}#sk-container-id-1 div.sk-dashed-wrapped {border: 1px dashed gray;margin: 0 0.4em 0.5em 0.4em;box-sizing: border-box;padding-bottom: 0.4em;background-color: white;}#sk-container-id-1 div.sk-label label {font-family: monospace;font-weight: bold;display: inline-block;line-height: 1.2em;}#sk-container-id-1 div.sk-label-container {text-align: center;}#sk-container-id-1 div.sk-container {/* jupyter's `normalize.less` sets `[hidden] { display: none; }` but bootstrap.min.css set `[hidden] { display: none !important; }` so we also need the `!important` here to be able to override the default hidden behavior on the sphinx rendered scikit-learn.org. See: https://github.com/scikit-learn/scikit-learn/issues/21755 */display: inline-block !important;position: relative;}#sk-container-id-1 div.sk-text-repr-fallback {display: none;}</style><div id=\"sk-container-id-1\" class=\"sk-top-container\"><div class=\"sk-text-repr-fallback\"><pre>StandardScaler()</pre><b>In a Jupyter environment, please rerun this cell to show the HTML representation or trust the notebook. <br />On GitHub, the HTML representation is unable to render, please try loading this page with nbviewer.org.</b></div><div class=\"sk-container\" hidden><div class=\"sk-item\"><div class=\"sk-estimator sk-toggleable\"><input class=\"sk-toggleable__control sk-hidden--visually\" id=\"sk-estimator-id-1\" type=\"checkbox\" checked><label for=\"sk-estimator-id-1\" class=\"sk-toggleable__label sk-toggleable__label-arrow\">StandardScaler</label><div class=\"sk-toggleable__content\"><pre>StandardScaler()</pre></div></div></div></div></div>"
      ],
      "text/plain": [
       "StandardScaler()"
      ]
     },
     "execution_count": 12,
     "metadata": {},
     "output_type": "execute_result"
    }
   ],
   "source": [
    "scaler.fit(X)"
   ]
  },
  {
   "cell_type": "code",
   "execution_count": 13,
   "id": "ca1b75e1",
   "metadata": {
    "execution": {
     "iopub.execute_input": "2025-01-07T09:21:32.336528Z",
     "iopub.status.busy": "2025-01-07T09:21:32.336127Z",
     "iopub.status.idle": "2025-01-07T09:21:32.342399Z",
     "shell.execute_reply": "2025-01-07T09:21:32.341328Z"
    },
    "papermill": {
     "duration": 0.017033,
     "end_time": "2025-01-07T09:21:32.344210",
     "exception": false,
     "start_time": "2025-01-07T09:21:32.327177",
     "status": "completed"
    },
    "tags": []
   },
   "outputs": [],
   "source": [
    "standardized_data = scaler.transform(X)"
   ]
  },
  {
   "cell_type": "code",
   "execution_count": 14,
   "id": "fddfa395",
   "metadata": {
    "execution": {
     "iopub.execute_input": "2025-01-07T09:21:32.361060Z",
     "iopub.status.busy": "2025-01-07T09:21:32.360580Z",
     "iopub.status.idle": "2025-01-07T09:21:32.366567Z",
     "shell.execute_reply": "2025-01-07T09:21:32.365218Z"
    },
    "papermill": {
     "duration": 0.016415,
     "end_time": "2025-01-07T09:21:32.368320",
     "exception": false,
     "start_time": "2025-01-07T09:21:32.351905",
     "status": "completed"
    },
    "tags": []
   },
   "outputs": [
    {
     "name": "stdout",
     "output_type": "stream",
     "text": [
      "[[ 0.63994726  0.84832379  0.14964075 ...  0.20401277  0.46849198\n",
      "   1.4259954 ]\n",
      " [-0.84488505 -1.12339636 -0.16054575 ... -0.68442195 -0.36506078\n",
      "  -0.19067191]\n",
      " [ 1.23388019  1.94372388 -0.26394125 ... -1.10325546  0.60439732\n",
      "  -0.10558415]\n",
      " ...\n",
      " [ 0.3429808   0.00330087  0.14964075 ... -0.73518964 -0.68519336\n",
      "  -0.27575966]\n",
      " [-0.84488505  0.1597866  -0.47073225 ... -0.24020459 -0.37110101\n",
      "   1.17073215]\n",
      " [-0.84488505 -0.8730192   0.04624525 ... -0.20212881 -0.47378505\n",
      "  -0.87137393]]\n"
     ]
    }
   ],
   "source": [
    "print(standardized_data)"
   ]
  },
  {
   "cell_type": "code",
   "execution_count": 15,
   "id": "973d072e",
   "metadata": {
    "execution": {
     "iopub.execute_input": "2025-01-07T09:21:32.384861Z",
     "iopub.status.busy": "2025-01-07T09:21:32.384450Z",
     "iopub.status.idle": "2025-01-07T09:21:32.388903Z",
     "shell.execute_reply": "2025-01-07T09:21:32.387803Z"
    },
    "papermill": {
     "duration": 0.014629,
     "end_time": "2025-01-07T09:21:32.390654",
     "exception": false,
     "start_time": "2025-01-07T09:21:32.376025",
     "status": "completed"
    },
    "tags": []
   },
   "outputs": [],
   "source": [
    "X = standardized_data\n",
    "Y = diabetes_dataset['Outcome']"
   ]
  },
  {
   "cell_type": "code",
   "execution_count": 16,
   "id": "ed27045c",
   "metadata": {
    "execution": {
     "iopub.execute_input": "2025-01-07T09:21:32.408436Z",
     "iopub.status.busy": "2025-01-07T09:21:32.408031Z",
     "iopub.status.idle": "2025-01-07T09:21:32.415108Z",
     "shell.execute_reply": "2025-01-07T09:21:32.414081Z"
    },
    "papermill": {
     "duration": 0.017665,
     "end_time": "2025-01-07T09:21:32.416704",
     "exception": false,
     "start_time": "2025-01-07T09:21:32.399039",
     "status": "completed"
    },
    "tags": []
   },
   "outputs": [
    {
     "name": "stdout",
     "output_type": "stream",
     "text": [
      "[[ 0.63994726  0.84832379  0.14964075 ...  0.20401277  0.46849198\n",
      "   1.4259954 ]\n",
      " [-0.84488505 -1.12339636 -0.16054575 ... -0.68442195 -0.36506078\n",
      "  -0.19067191]\n",
      " [ 1.23388019  1.94372388 -0.26394125 ... -1.10325546  0.60439732\n",
      "  -0.10558415]\n",
      " ...\n",
      " [ 0.3429808   0.00330087  0.14964075 ... -0.73518964 -0.68519336\n",
      "  -0.27575966]\n",
      " [-0.84488505  0.1597866  -0.47073225 ... -0.24020459 -0.37110101\n",
      "   1.17073215]\n",
      " [-0.84488505 -0.8730192   0.04624525 ... -0.20212881 -0.47378505\n",
      "  -0.87137393]]\n",
      "0      1\n",
      "1      0\n",
      "2      1\n",
      "3      0\n",
      "4      1\n",
      "      ..\n",
      "763    0\n",
      "764    0\n",
      "765    0\n",
      "766    1\n",
      "767    0\n",
      "Name: Outcome, Length: 768, dtype: int64\n"
     ]
    }
   ],
   "source": [
    "print(X)\n",
    "print(Y)"
   ]
  },
  {
   "cell_type": "markdown",
   "id": "22463062",
   "metadata": {
    "papermill": {
     "duration": 0.007419,
     "end_time": "2025-01-07T09:21:32.432078",
     "exception": false,
     "start_time": "2025-01-07T09:21:32.424659",
     "status": "completed"
    },
    "tags": []
   },
   "source": [
    "### Train Test Split"
   ]
  },
  {
   "cell_type": "code",
   "execution_count": 17,
   "id": "3292d470",
   "metadata": {
    "execution": {
     "iopub.execute_input": "2025-01-07T09:21:32.448698Z",
     "iopub.status.busy": "2025-01-07T09:21:32.448332Z",
     "iopub.status.idle": "2025-01-07T09:21:32.456809Z",
     "shell.execute_reply": "2025-01-07T09:21:32.455711Z"
    },
    "papermill": {
     "duration": 0.019262,
     "end_time": "2025-01-07T09:21:32.458744",
     "exception": false,
     "start_time": "2025-01-07T09:21:32.439482",
     "status": "completed"
    },
    "tags": []
   },
   "outputs": [],
   "source": [
    "X_train, X_test, Y_train, Y_test = train_test_split(X, Y, test_size=0.2, stratify=Y, random_state=2)"
   ]
  },
  {
   "cell_type": "code",
   "execution_count": 18,
   "id": "7a50468a",
   "metadata": {
    "execution": {
     "iopub.execute_input": "2025-01-07T09:21:32.475415Z",
     "iopub.status.busy": "2025-01-07T09:21:32.475039Z",
     "iopub.status.idle": "2025-01-07T09:21:32.480827Z",
     "shell.execute_reply": "2025-01-07T09:21:32.479781Z"
    },
    "papermill": {
     "duration": 0.016095,
     "end_time": "2025-01-07T09:21:32.482535",
     "exception": false,
     "start_time": "2025-01-07T09:21:32.466440",
     "status": "completed"
    },
    "tags": []
   },
   "outputs": [
    {
     "name": "stdout",
     "output_type": "stream",
     "text": [
      "(768, 8) (614, 8) (154, 8)\n"
     ]
    }
   ],
   "source": [
    "print(X.shape, X_train.shape, X_test.shape)"
   ]
  },
  {
   "cell_type": "markdown",
   "id": "ca4a3cd2",
   "metadata": {
    "papermill": {
     "duration": 0.007242,
     "end_time": "2025-01-07T09:21:32.497520",
     "exception": false,
     "start_time": "2025-01-07T09:21:32.490278",
     "status": "completed"
    },
    "tags": []
   },
   "source": [
    "### Training the Model"
   ]
  },
  {
   "cell_type": "code",
   "execution_count": 19,
   "id": "310960ef",
   "metadata": {
    "execution": {
     "iopub.execute_input": "2025-01-07T09:21:32.514844Z",
     "iopub.status.busy": "2025-01-07T09:21:32.514458Z",
     "iopub.status.idle": "2025-01-07T09:21:32.518647Z",
     "shell.execute_reply": "2025-01-07T09:21:32.517638Z"
    },
    "papermill": {
     "duration": 0.014833,
     "end_time": "2025-01-07T09:21:32.520182",
     "exception": false,
     "start_time": "2025-01-07T09:21:32.505349",
     "status": "completed"
    },
    "tags": []
   },
   "outputs": [],
   "source": [
    "classifier = svm.SVC(kernel='linear')"
   ]
  },
  {
   "cell_type": "code",
   "execution_count": 20,
   "id": "e22cebde",
   "metadata": {
    "execution": {
     "iopub.execute_input": "2025-01-07T09:21:32.537109Z",
     "iopub.status.busy": "2025-01-07T09:21:32.536678Z",
     "iopub.status.idle": "2025-01-07T09:21:32.557499Z",
     "shell.execute_reply": "2025-01-07T09:21:32.556350Z"
    },
    "papermill": {
     "duration": 0.030982,
     "end_time": "2025-01-07T09:21:32.559323",
     "exception": false,
     "start_time": "2025-01-07T09:21:32.528341",
     "status": "completed"
    },
    "tags": []
   },
   "outputs": [
    {
     "data": {
      "text/html": [
       "<style>#sk-container-id-2 {color: black;background-color: white;}#sk-container-id-2 pre{padding: 0;}#sk-container-id-2 div.sk-toggleable {background-color: white;}#sk-container-id-2 label.sk-toggleable__label {cursor: pointer;display: block;width: 100%;margin-bottom: 0;padding: 0.3em;box-sizing: border-box;text-align: center;}#sk-container-id-2 label.sk-toggleable__label-arrow:before {content: \"▸\";float: left;margin-right: 0.25em;color: #696969;}#sk-container-id-2 label.sk-toggleable__label-arrow:hover:before {color: black;}#sk-container-id-2 div.sk-estimator:hover label.sk-toggleable__label-arrow:before {color: black;}#sk-container-id-2 div.sk-toggleable__content {max-height: 0;max-width: 0;overflow: hidden;text-align: left;background-color: #f0f8ff;}#sk-container-id-2 div.sk-toggleable__content pre {margin: 0.2em;color: black;border-radius: 0.25em;background-color: #f0f8ff;}#sk-container-id-2 input.sk-toggleable__control:checked~div.sk-toggleable__content {max-height: 200px;max-width: 100%;overflow: auto;}#sk-container-id-2 input.sk-toggleable__control:checked~label.sk-toggleable__label-arrow:before {content: \"▾\";}#sk-container-id-2 div.sk-estimator input.sk-toggleable__control:checked~label.sk-toggleable__label {background-color: #d4ebff;}#sk-container-id-2 div.sk-label input.sk-toggleable__control:checked~label.sk-toggleable__label {background-color: #d4ebff;}#sk-container-id-2 input.sk-hidden--visually {border: 0;clip: rect(1px 1px 1px 1px);clip: rect(1px, 1px, 1px, 1px);height: 1px;margin: -1px;overflow: hidden;padding: 0;position: absolute;width: 1px;}#sk-container-id-2 div.sk-estimator {font-family: monospace;background-color: #f0f8ff;border: 1px dotted black;border-radius: 0.25em;box-sizing: border-box;margin-bottom: 0.5em;}#sk-container-id-2 div.sk-estimator:hover {background-color: #d4ebff;}#sk-container-id-2 div.sk-parallel-item::after {content: \"\";width: 100%;border-bottom: 1px solid gray;flex-grow: 1;}#sk-container-id-2 div.sk-label:hover label.sk-toggleable__label {background-color: #d4ebff;}#sk-container-id-2 div.sk-serial::before {content: \"\";position: absolute;border-left: 1px solid gray;box-sizing: border-box;top: 0;bottom: 0;left: 50%;z-index: 0;}#sk-container-id-2 div.sk-serial {display: flex;flex-direction: column;align-items: center;background-color: white;padding-right: 0.2em;padding-left: 0.2em;position: relative;}#sk-container-id-2 div.sk-item {position: relative;z-index: 1;}#sk-container-id-2 div.sk-parallel {display: flex;align-items: stretch;justify-content: center;background-color: white;position: relative;}#sk-container-id-2 div.sk-item::before, #sk-container-id-2 div.sk-parallel-item::before {content: \"\";position: absolute;border-left: 1px solid gray;box-sizing: border-box;top: 0;bottom: 0;left: 50%;z-index: -1;}#sk-container-id-2 div.sk-parallel-item {display: flex;flex-direction: column;z-index: 1;position: relative;background-color: white;}#sk-container-id-2 div.sk-parallel-item:first-child::after {align-self: flex-end;width: 50%;}#sk-container-id-2 div.sk-parallel-item:last-child::after {align-self: flex-start;width: 50%;}#sk-container-id-2 div.sk-parallel-item:only-child::after {width: 0;}#sk-container-id-2 div.sk-dashed-wrapped {border: 1px dashed gray;margin: 0 0.4em 0.5em 0.4em;box-sizing: border-box;padding-bottom: 0.4em;background-color: white;}#sk-container-id-2 div.sk-label label {font-family: monospace;font-weight: bold;display: inline-block;line-height: 1.2em;}#sk-container-id-2 div.sk-label-container {text-align: center;}#sk-container-id-2 div.sk-container {/* jupyter's `normalize.less` sets `[hidden] { display: none; }` but bootstrap.min.css set `[hidden] { display: none !important; }` so we also need the `!important` here to be able to override the default hidden behavior on the sphinx rendered scikit-learn.org. See: https://github.com/scikit-learn/scikit-learn/issues/21755 */display: inline-block !important;position: relative;}#sk-container-id-2 div.sk-text-repr-fallback {display: none;}</style><div id=\"sk-container-id-2\" class=\"sk-top-container\"><div class=\"sk-text-repr-fallback\"><pre>SVC(kernel=&#x27;linear&#x27;)</pre><b>In a Jupyter environment, please rerun this cell to show the HTML representation or trust the notebook. <br />On GitHub, the HTML representation is unable to render, please try loading this page with nbviewer.org.</b></div><div class=\"sk-container\" hidden><div class=\"sk-item\"><div class=\"sk-estimator sk-toggleable\"><input class=\"sk-toggleable__control sk-hidden--visually\" id=\"sk-estimator-id-2\" type=\"checkbox\" checked><label for=\"sk-estimator-id-2\" class=\"sk-toggleable__label sk-toggleable__label-arrow\">SVC</label><div class=\"sk-toggleable__content\"><pre>SVC(kernel=&#x27;linear&#x27;)</pre></div></div></div></div></div>"
      ],
      "text/plain": [
       "SVC(kernel='linear')"
      ]
     },
     "execution_count": 20,
     "metadata": {},
     "output_type": "execute_result"
    }
   ],
   "source": [
    "# training the Support Vector Machine Classifier\n",
    "classifier.fit(X_train, Y_train)"
   ]
  },
  {
   "cell_type": "markdown",
   "id": "ee38306d",
   "metadata": {
    "papermill": {
     "duration": 0.007386,
     "end_time": "2025-01-07T09:21:32.575178",
     "exception": false,
     "start_time": "2025-01-07T09:21:32.567792",
     "status": "completed"
    },
    "tags": []
   },
   "source": [
    "## Model Evaluation\n",
    "\n",
    "## Accuracy Score"
   ]
  },
  {
   "cell_type": "code",
   "execution_count": 21,
   "id": "9e02d3f1",
   "metadata": {
    "execution": {
     "iopub.execute_input": "2025-01-07T09:21:32.592208Z",
     "iopub.status.busy": "2025-01-07T09:21:32.591852Z",
     "iopub.status.idle": "2025-01-07T09:21:32.601843Z",
     "shell.execute_reply": "2025-01-07T09:21:32.600962Z"
    },
    "papermill": {
     "duration": 0.020687,
     "end_time": "2025-01-07T09:21:32.604029",
     "exception": false,
     "start_time": "2025-01-07T09:21:32.583342",
     "status": "completed"
    },
    "tags": []
   },
   "outputs": [],
   "source": [
    "# accuracy score on the training data\n",
    "X_train_prediction = classifier.predict(X_train)\n",
    "training_data_accuracy = accuracy_score(X_train_prediction, Y_train)"
   ]
  },
  {
   "cell_type": "code",
   "execution_count": 22,
   "id": "f6889d6a",
   "metadata": {
    "execution": {
     "iopub.execute_input": "2025-01-07T09:21:32.622011Z",
     "iopub.status.busy": "2025-01-07T09:21:32.621651Z",
     "iopub.status.idle": "2025-01-07T09:21:32.626549Z",
     "shell.execute_reply": "2025-01-07T09:21:32.625332Z"
    },
    "papermill": {
     "duration": 0.015254,
     "end_time": "2025-01-07T09:21:32.627947",
     "exception": false,
     "start_time": "2025-01-07T09:21:32.612693",
     "status": "completed"
    },
    "tags": []
   },
   "outputs": [
    {
     "name": "stdout",
     "output_type": "stream",
     "text": [
      "Accuracy score of the training data:  0.7866449511400652\n"
     ]
    }
   ],
   "source": [
    "print(\"Accuracy score of the training data: \", training_data_accuracy)"
   ]
  },
  {
   "cell_type": "code",
   "execution_count": 23,
   "id": "c9c0c6f1",
   "metadata": {
    "execution": {
     "iopub.execute_input": "2025-01-07T09:21:32.645018Z",
     "iopub.status.busy": "2025-01-07T09:21:32.644636Z",
     "iopub.status.idle": "2025-01-07T09:21:32.651648Z",
     "shell.execute_reply": "2025-01-07T09:21:32.650101Z"
    },
    "papermill": {
     "duration": 0.018236,
     "end_time": "2025-01-07T09:21:32.654208",
     "exception": false,
     "start_time": "2025-01-07T09:21:32.635972",
     "status": "completed"
    },
    "tags": []
   },
   "outputs": [],
   "source": [
    "# accuracy score on the test data\n",
    "X_test_prediction = classifier.predict(X_test)\n",
    "test_data_accuracy = accuracy_score(X_test_prediction, Y_test)"
   ]
  },
  {
   "cell_type": "code",
   "execution_count": 24,
   "id": "1751aab7",
   "metadata": {
    "execution": {
     "iopub.execute_input": "2025-01-07T09:21:32.671892Z",
     "iopub.status.busy": "2025-01-07T09:21:32.671556Z",
     "iopub.status.idle": "2025-01-07T09:21:32.676813Z",
     "shell.execute_reply": "2025-01-07T09:21:32.675880Z"
    },
    "papermill": {
     "duration": 0.01566,
     "end_time": "2025-01-07T09:21:32.678440",
     "exception": false,
     "start_time": "2025-01-07T09:21:32.662780",
     "status": "completed"
    },
    "tags": []
   },
   "outputs": [
    {
     "name": "stdout",
     "output_type": "stream",
     "text": [
      "Accuracy score of the test data:  0.7727272727272727\n"
     ]
    }
   ],
   "source": [
    "print(\"Accuracy score of the test data: \", test_data_accuracy)"
   ]
  },
  {
   "cell_type": "markdown",
   "id": "2359e0fd",
   "metadata": {
    "papermill": {
     "duration": 0.007652,
     "end_time": "2025-01-07T09:21:32.694109",
     "exception": false,
     "start_time": "2025-01-07T09:21:32.686457",
     "status": "completed"
    },
    "tags": []
   },
   "source": [
    "## Making a Predictive System"
   ]
  },
  {
   "cell_type": "code",
   "execution_count": 25,
   "id": "47b50b0f",
   "metadata": {
    "execution": {
     "iopub.execute_input": "2025-01-07T09:21:32.711472Z",
     "iopub.status.busy": "2025-01-07T09:21:32.711137Z",
     "iopub.status.idle": "2025-01-07T09:21:32.718697Z",
     "shell.execute_reply": "2025-01-07T09:21:32.717590Z"
    },
    "papermill": {
     "duration": 0.018073,
     "end_time": "2025-01-07T09:21:32.720285",
     "exception": false,
     "start_time": "2025-01-07T09:21:32.702212",
     "status": "completed"
    },
    "tags": []
   },
   "outputs": [
    {
     "name": "stdout",
     "output_type": "stream",
     "text": [
      "The person is not diabetic\n"
     ]
    }
   ],
   "source": [
    "input_data = (4, 110, 92, 0, 0, 37.6, 0.191, 30) \n",
    "\n",
    "# changing the input data to numpy array\n",
    "input_data_as_numpy_array = np.asarray(input_data)\n",
    "\n",
    "# reshape the array as we are predicting for one instance\n",
    "input_data_reshaped = input_data_as_numpy_array.reshape(1,-1)\n",
    "\n",
    "# standardize the input data\n",
    "scaler.fit(input_data_reshaped)\n",
    "\n",
    "# Transform the input data\n",
    "std_data = scaler.transform(input_data_reshaped)\n",
    "\n",
    "# Predict\n",
    "prediction = classifier.predict(std_data)\n",
    "\n",
    "\n",
    "if (prediction[0] == 0):\n",
    "    print(\"The person is not diabetic\")\n",
    "else:\n",
    "    print(\"The person is diabetic\")"
   ]
  },
  {
   "cell_type": "code",
   "execution_count": 26,
   "id": "f4a06d56",
   "metadata": {
    "execution": {
     "iopub.execute_input": "2025-01-07T09:21:32.737485Z",
     "iopub.status.busy": "2025-01-07T09:21:32.737124Z",
     "iopub.status.idle": "2025-01-07T09:21:32.742978Z",
     "shell.execute_reply": "2025-01-07T09:21:32.742045Z"
    },
    "papermill": {
     "duration": 0.016011,
     "end_time": "2025-01-07T09:21:32.744418",
     "exception": false,
     "start_time": "2025-01-07T09:21:32.728407",
     "status": "completed"
    },
    "tags": []
   },
   "outputs": [
    {
     "name": "stdout",
     "output_type": "stream",
     "text": [
      "[  4.    110.     92.      0.      0.     37.6     0.191  30.   ]\n",
      "(4, 110, 92, 0, 0, 37.6, 0.191, 30)\n",
      "[[  4.    110.     92.      0.      0.     37.6     0.191  30.   ]]\n"
     ]
    }
   ],
   "source": [
    "print(input_data_as_numpy_array)\n",
    "print(input_data)\n",
    "print(input_data_reshaped)"
   ]
  },
  {
   "cell_type": "code",
   "execution_count": 27,
   "id": "0e45cb0a",
   "metadata": {
    "execution": {
     "iopub.execute_input": "2025-01-07T09:21:32.761753Z",
     "iopub.status.busy": "2025-01-07T09:21:32.761411Z",
     "iopub.status.idle": "2025-01-07T09:21:32.767174Z",
     "shell.execute_reply": "2025-01-07T09:21:32.766235Z"
    },
    "papermill": {
     "duration": 0.016296,
     "end_time": "2025-01-07T09:21:32.768708",
     "exception": false,
     "start_time": "2025-01-07T09:21:32.752412",
     "status": "completed"
    },
    "tags": []
   },
   "outputs": [
    {
     "data": {
      "text/plain": [
       "array([  4.   , 110.   ,  92.   ,   0.   ,   0.   ,  37.6  ,   0.191,\n",
       "        30.   ])"
      ]
     },
     "execution_count": 27,
     "metadata": {},
     "output_type": "execute_result"
    }
   ],
   "source": [
    "input_data_as_numpy_array"
   ]
  }
 ],
 "metadata": {
  "kaggle": {
   "accelerator": "none",
   "dataSources": [
    {
     "datasetId": 6422826,
     "sourceId": 10369429,
     "sourceType": "datasetVersion"
    }
   ],
   "dockerImageVersionId": 30822,
   "isGpuEnabled": false,
   "isInternetEnabled": true,
   "language": "python",
   "sourceType": "notebook"
  },
  "kernelspec": {
   "display_name": "Python 3",
   "language": "python",
   "name": "python3"
  },
  "language_info": {
   "codemirror_mode": {
    "name": "ipython",
    "version": 3
   },
   "file_extension": ".py",
   "mimetype": "text/x-python",
   "name": "python",
   "nbconvert_exporter": "python",
   "pygments_lexer": "ipython3",
   "version": "3.10.12"
  },
  "papermill": {
   "default_parameters": {},
   "duration": 7.133929,
   "end_time": "2025-01-07T09:21:33.498511",
   "environment_variables": {},
   "exception": null,
   "input_path": "__notebook__.ipynb",
   "output_path": "__notebook__.ipynb",
   "parameters": {},
   "start_time": "2025-01-07T09:21:26.364582",
   "version": "2.6.0"
  }
 },
 "nbformat": 4,
 "nbformat_minor": 5
}
