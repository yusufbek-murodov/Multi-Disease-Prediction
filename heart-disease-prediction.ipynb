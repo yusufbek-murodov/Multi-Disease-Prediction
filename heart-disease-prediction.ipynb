{
 "cells": [
  {
   "cell_type": "markdown",
   "id": "3fb1117b",
   "metadata": {
    "papermill": {
     "duration": 0.006551,
     "end_time": "2025-01-08T16:42:01.519367",
     "exception": false,
     "start_time": "2025-01-08T16:42:01.512816",
     "status": "completed"
    },
    "tags": []
   },
   "source": [
    "## Importing the Dependecies"
   ]
  },
  {
   "cell_type": "code",
   "execution_count": 1,
   "id": "e779ff81",
   "metadata": {
    "_cell_guid": "b1076dfc-b9ad-4769-8c92-a6c4dae69d19",
    "_uuid": "8f2839f25d086af736a60e9eeb907d3b93b6e0e5",
    "execution": {
     "iopub.execute_input": "2025-01-08T16:42:01.533515Z",
     "iopub.status.busy": "2025-01-08T16:42:01.533160Z",
     "iopub.status.idle": "2025-01-08T16:42:03.562416Z",
     "shell.execute_reply": "2025-01-08T16:42:03.561168Z"
    },
    "papermill": {
     "duration": 2.038294,
     "end_time": "2025-01-08T16:42:03.564367",
     "exception": false,
     "start_time": "2025-01-08T16:42:01.526073",
     "status": "completed"
    },
    "tags": []
   },
   "outputs": [],
   "source": [
    "import numpy as np\n",
    "import pandas as pd\n",
    "from sklearn.model_selection import train_test_split\n",
    "from sklearn.linear_model import LogisticRegression\n",
    "from sklearn.metrics import accuracy_score"
   ]
  },
  {
   "cell_type": "markdown",
   "id": "36560579",
   "metadata": {
    "papermill": {
     "duration": 0.005644,
     "end_time": "2025-01-08T16:42:03.576163",
     "exception": false,
     "start_time": "2025-01-08T16:42:03.570519",
     "status": "completed"
    },
    "tags": []
   },
   "source": [
    "## Data Collection and Processing"
   ]
  },
  {
   "cell_type": "code",
   "execution_count": 2,
   "id": "b39a66db",
   "metadata": {
    "execution": {
     "iopub.execute_input": "2025-01-08T16:42:03.589312Z",
     "iopub.status.busy": "2025-01-08T16:42:03.588628Z",
     "iopub.status.idle": "2025-01-08T16:42:03.609522Z",
     "shell.execute_reply": "2025-01-08T16:42:03.608438Z"
    },
    "papermill": {
     "duration": 0.029589,
     "end_time": "2025-01-08T16:42:03.611506",
     "exception": false,
     "start_time": "2025-01-08T16:42:03.581917",
     "status": "completed"
    },
    "tags": []
   },
   "outputs": [],
   "source": [
    "# loading the csv data to a Pandas DataFrame\n",
    "heart_data = pd.read_csv('/kaggle/input/heart-desease-data/heart_disease_data.csv')"
   ]
  },
  {
   "cell_type": "code",
   "execution_count": 3,
   "id": "17f2cf11",
   "metadata": {
    "execution": {
     "iopub.execute_input": "2025-01-08T16:42:03.624667Z",
     "iopub.status.busy": "2025-01-08T16:42:03.624270Z",
     "iopub.status.idle": "2025-01-08T16:42:03.647504Z",
     "shell.execute_reply": "2025-01-08T16:42:03.646578Z"
    },
    "papermill": {
     "duration": 0.031677,
     "end_time": "2025-01-08T16:42:03.649192",
     "exception": false,
     "start_time": "2025-01-08T16:42:03.617515",
     "status": "completed"
    },
    "tags": []
   },
   "outputs": [
    {
     "data": {
      "text/html": [
       "<div>\n",
       "<style scoped>\n",
       "    .dataframe tbody tr th:only-of-type {\n",
       "        vertical-align: middle;\n",
       "    }\n",
       "\n",
       "    .dataframe tbody tr th {\n",
       "        vertical-align: top;\n",
       "    }\n",
       "\n",
       "    .dataframe thead th {\n",
       "        text-align: right;\n",
       "    }\n",
       "</style>\n",
       "<table border=\"1\" class=\"dataframe\">\n",
       "  <thead>\n",
       "    <tr style=\"text-align: right;\">\n",
       "      <th></th>\n",
       "      <th>age</th>\n",
       "      <th>sex</th>\n",
       "      <th>cp</th>\n",
       "      <th>trestbps</th>\n",
       "      <th>chol</th>\n",
       "      <th>fbs</th>\n",
       "      <th>restecg</th>\n",
       "      <th>thalach</th>\n",
       "      <th>exang</th>\n",
       "      <th>oldpeak</th>\n",
       "      <th>slope</th>\n",
       "      <th>ca</th>\n",
       "      <th>thal</th>\n",
       "      <th>target</th>\n",
       "    </tr>\n",
       "  </thead>\n",
       "  <tbody>\n",
       "    <tr>\n",
       "      <th>0</th>\n",
       "      <td>63</td>\n",
       "      <td>1</td>\n",
       "      <td>3</td>\n",
       "      <td>145</td>\n",
       "      <td>233</td>\n",
       "      <td>1</td>\n",
       "      <td>0</td>\n",
       "      <td>150</td>\n",
       "      <td>0</td>\n",
       "      <td>2.3</td>\n",
       "      <td>0</td>\n",
       "      <td>0</td>\n",
       "      <td>1</td>\n",
       "      <td>1</td>\n",
       "    </tr>\n",
       "    <tr>\n",
       "      <th>1</th>\n",
       "      <td>37</td>\n",
       "      <td>1</td>\n",
       "      <td>2</td>\n",
       "      <td>130</td>\n",
       "      <td>250</td>\n",
       "      <td>0</td>\n",
       "      <td>1</td>\n",
       "      <td>187</td>\n",
       "      <td>0</td>\n",
       "      <td>3.5</td>\n",
       "      <td>0</td>\n",
       "      <td>0</td>\n",
       "      <td>2</td>\n",
       "      <td>1</td>\n",
       "    </tr>\n",
       "    <tr>\n",
       "      <th>2</th>\n",
       "      <td>41</td>\n",
       "      <td>0</td>\n",
       "      <td>1</td>\n",
       "      <td>130</td>\n",
       "      <td>204</td>\n",
       "      <td>0</td>\n",
       "      <td>0</td>\n",
       "      <td>172</td>\n",
       "      <td>0</td>\n",
       "      <td>1.4</td>\n",
       "      <td>2</td>\n",
       "      <td>0</td>\n",
       "      <td>2</td>\n",
       "      <td>1</td>\n",
       "    </tr>\n",
       "    <tr>\n",
       "      <th>3</th>\n",
       "      <td>56</td>\n",
       "      <td>1</td>\n",
       "      <td>1</td>\n",
       "      <td>120</td>\n",
       "      <td>236</td>\n",
       "      <td>0</td>\n",
       "      <td>1</td>\n",
       "      <td>178</td>\n",
       "      <td>0</td>\n",
       "      <td>0.8</td>\n",
       "      <td>2</td>\n",
       "      <td>0</td>\n",
       "      <td>2</td>\n",
       "      <td>1</td>\n",
       "    </tr>\n",
       "    <tr>\n",
       "      <th>4</th>\n",
       "      <td>57</td>\n",
       "      <td>0</td>\n",
       "      <td>0</td>\n",
       "      <td>120</td>\n",
       "      <td>354</td>\n",
       "      <td>0</td>\n",
       "      <td>1</td>\n",
       "      <td>163</td>\n",
       "      <td>1</td>\n",
       "      <td>0.6</td>\n",
       "      <td>2</td>\n",
       "      <td>0</td>\n",
       "      <td>2</td>\n",
       "      <td>1</td>\n",
       "    </tr>\n",
       "  </tbody>\n",
       "</table>\n",
       "</div>"
      ],
      "text/plain": [
       "   age  sex  cp  trestbps  chol  fbs  restecg  thalach  exang  oldpeak  slope  \\\n",
       "0   63    1   3       145   233    1        0      150      0      2.3      0   \n",
       "1   37    1   2       130   250    0        1      187      0      3.5      0   \n",
       "2   41    0   1       130   204    0        0      172      0      1.4      2   \n",
       "3   56    1   1       120   236    0        1      178      0      0.8      2   \n",
       "4   57    0   0       120   354    0        1      163      1      0.6      2   \n",
       "\n",
       "   ca  thal  target  \n",
       "0   0     1       1  \n",
       "1   0     2       1  \n",
       "2   0     2       1  \n",
       "3   0     2       1  \n",
       "4   0     2       1  "
      ]
     },
     "execution_count": 3,
     "metadata": {},
     "output_type": "execute_result"
    }
   ],
   "source": [
    "# print first 5 rows of the dataset\n",
    "heart_data.head()"
   ]
  },
  {
   "cell_type": "code",
   "execution_count": 4,
   "id": "d738ddc3",
   "metadata": {
    "execution": {
     "iopub.execute_input": "2025-01-08T16:42:03.663419Z",
     "iopub.status.busy": "2025-01-08T16:42:03.663077Z",
     "iopub.status.idle": "2025-01-08T16:42:03.675397Z",
     "shell.execute_reply": "2025-01-08T16:42:03.674310Z"
    },
    "papermill": {
     "duration": 0.021736,
     "end_time": "2025-01-08T16:42:03.677017",
     "exception": false,
     "start_time": "2025-01-08T16:42:03.655281",
     "status": "completed"
    },
    "tags": []
   },
   "outputs": [
    {
     "data": {
      "text/html": [
       "<div>\n",
       "<style scoped>\n",
       "    .dataframe tbody tr th:only-of-type {\n",
       "        vertical-align: middle;\n",
       "    }\n",
       "\n",
       "    .dataframe tbody tr th {\n",
       "        vertical-align: top;\n",
       "    }\n",
       "\n",
       "    .dataframe thead th {\n",
       "        text-align: right;\n",
       "    }\n",
       "</style>\n",
       "<table border=\"1\" class=\"dataframe\">\n",
       "  <thead>\n",
       "    <tr style=\"text-align: right;\">\n",
       "      <th></th>\n",
       "      <th>age</th>\n",
       "      <th>sex</th>\n",
       "      <th>cp</th>\n",
       "      <th>trestbps</th>\n",
       "      <th>chol</th>\n",
       "      <th>fbs</th>\n",
       "      <th>restecg</th>\n",
       "      <th>thalach</th>\n",
       "      <th>exang</th>\n",
       "      <th>oldpeak</th>\n",
       "      <th>slope</th>\n",
       "      <th>ca</th>\n",
       "      <th>thal</th>\n",
       "      <th>target</th>\n",
       "    </tr>\n",
       "  </thead>\n",
       "  <tbody>\n",
       "    <tr>\n",
       "      <th>298</th>\n",
       "      <td>57</td>\n",
       "      <td>0</td>\n",
       "      <td>0</td>\n",
       "      <td>140</td>\n",
       "      <td>241</td>\n",
       "      <td>0</td>\n",
       "      <td>1</td>\n",
       "      <td>123</td>\n",
       "      <td>1</td>\n",
       "      <td>0.2</td>\n",
       "      <td>1</td>\n",
       "      <td>0</td>\n",
       "      <td>3</td>\n",
       "      <td>0</td>\n",
       "    </tr>\n",
       "    <tr>\n",
       "      <th>299</th>\n",
       "      <td>45</td>\n",
       "      <td>1</td>\n",
       "      <td>3</td>\n",
       "      <td>110</td>\n",
       "      <td>264</td>\n",
       "      <td>0</td>\n",
       "      <td>1</td>\n",
       "      <td>132</td>\n",
       "      <td>0</td>\n",
       "      <td>1.2</td>\n",
       "      <td>1</td>\n",
       "      <td>0</td>\n",
       "      <td>3</td>\n",
       "      <td>0</td>\n",
       "    </tr>\n",
       "    <tr>\n",
       "      <th>300</th>\n",
       "      <td>68</td>\n",
       "      <td>1</td>\n",
       "      <td>0</td>\n",
       "      <td>144</td>\n",
       "      <td>193</td>\n",
       "      <td>1</td>\n",
       "      <td>1</td>\n",
       "      <td>141</td>\n",
       "      <td>0</td>\n",
       "      <td>3.4</td>\n",
       "      <td>1</td>\n",
       "      <td>2</td>\n",
       "      <td>3</td>\n",
       "      <td>0</td>\n",
       "    </tr>\n",
       "    <tr>\n",
       "      <th>301</th>\n",
       "      <td>57</td>\n",
       "      <td>1</td>\n",
       "      <td>0</td>\n",
       "      <td>130</td>\n",
       "      <td>131</td>\n",
       "      <td>0</td>\n",
       "      <td>1</td>\n",
       "      <td>115</td>\n",
       "      <td>1</td>\n",
       "      <td>1.2</td>\n",
       "      <td>1</td>\n",
       "      <td>1</td>\n",
       "      <td>3</td>\n",
       "      <td>0</td>\n",
       "    </tr>\n",
       "    <tr>\n",
       "      <th>302</th>\n",
       "      <td>57</td>\n",
       "      <td>0</td>\n",
       "      <td>1</td>\n",
       "      <td>130</td>\n",
       "      <td>236</td>\n",
       "      <td>0</td>\n",
       "      <td>0</td>\n",
       "      <td>174</td>\n",
       "      <td>0</td>\n",
       "      <td>0.0</td>\n",
       "      <td>1</td>\n",
       "      <td>1</td>\n",
       "      <td>2</td>\n",
       "      <td>0</td>\n",
       "    </tr>\n",
       "  </tbody>\n",
       "</table>\n",
       "</div>"
      ],
      "text/plain": [
       "     age  sex  cp  trestbps  chol  fbs  restecg  thalach  exang  oldpeak  \\\n",
       "298   57    0   0       140   241    0        1      123      1      0.2   \n",
       "299   45    1   3       110   264    0        1      132      0      1.2   \n",
       "300   68    1   0       144   193    1        1      141      0      3.4   \n",
       "301   57    1   0       130   131    0        1      115      1      1.2   \n",
       "302   57    0   1       130   236    0        0      174      0      0.0   \n",
       "\n",
       "     slope  ca  thal  target  \n",
       "298      1   0     3       0  \n",
       "299      1   0     3       0  \n",
       "300      1   2     3       0  \n",
       "301      1   1     3       0  \n",
       "302      1   1     2       0  "
      ]
     },
     "execution_count": 4,
     "metadata": {},
     "output_type": "execute_result"
    }
   ],
   "source": [
    "# print last 5 rows of the dataset\n",
    "heart_data.tail()"
   ]
  },
  {
   "cell_type": "code",
   "execution_count": 5,
   "id": "4f51cf94",
   "metadata": {
    "execution": {
     "iopub.execute_input": "2025-01-08T16:42:03.691209Z",
     "iopub.status.busy": "2025-01-08T16:42:03.690858Z",
     "iopub.status.idle": "2025-01-08T16:42:03.696507Z",
     "shell.execute_reply": "2025-01-08T16:42:03.695606Z"
    },
    "papermill": {
     "duration": 0.014662,
     "end_time": "2025-01-08T16:42:03.698105",
     "exception": false,
     "start_time": "2025-01-08T16:42:03.683443",
     "status": "completed"
    },
    "tags": []
   },
   "outputs": [
    {
     "data": {
      "text/plain": [
       "(303, 14)"
      ]
     },
     "execution_count": 5,
     "metadata": {},
     "output_type": "execute_result"
    }
   ],
   "source": [
    "# number of rows and columns in the dataset\n",
    "heart_data.shape"
   ]
  },
  {
   "cell_type": "code",
   "execution_count": 6,
   "id": "6c835d47",
   "metadata": {
    "execution": {
     "iopub.execute_input": "2025-01-08T16:42:03.711889Z",
     "iopub.status.busy": "2025-01-08T16:42:03.711525Z",
     "iopub.status.idle": "2025-01-08T16:42:03.737433Z",
     "shell.execute_reply": "2025-01-08T16:42:03.736205Z"
    },
    "papermill": {
     "duration": 0.034825,
     "end_time": "2025-01-08T16:42:03.739231",
     "exception": false,
     "start_time": "2025-01-08T16:42:03.704406",
     "status": "completed"
    },
    "tags": []
   },
   "outputs": [
    {
     "name": "stdout",
     "output_type": "stream",
     "text": [
      "<class 'pandas.core.frame.DataFrame'>\n",
      "RangeIndex: 303 entries, 0 to 302\n",
      "Data columns (total 14 columns):\n",
      " #   Column    Non-Null Count  Dtype  \n",
      "---  ------    --------------  -----  \n",
      " 0   age       303 non-null    int64  \n",
      " 1   sex       303 non-null    int64  \n",
      " 2   cp        303 non-null    int64  \n",
      " 3   trestbps  303 non-null    int64  \n",
      " 4   chol      303 non-null    int64  \n",
      " 5   fbs       303 non-null    int64  \n",
      " 6   restecg   303 non-null    int64  \n",
      " 7   thalach   303 non-null    int64  \n",
      " 8   exang     303 non-null    int64  \n",
      " 9   oldpeak   303 non-null    float64\n",
      " 10  slope     303 non-null    int64  \n",
      " 11  ca        303 non-null    int64  \n",
      " 12  thal      303 non-null    int64  \n",
      " 13  target    303 non-null    int64  \n",
      "dtypes: float64(1), int64(13)\n",
      "memory usage: 33.3 KB\n"
     ]
    }
   ],
   "source": [
    "# getting some info about the data\n",
    "heart_data.info()"
   ]
  },
  {
   "cell_type": "code",
   "execution_count": 7,
   "id": "38fc0880",
   "metadata": {
    "execution": {
     "iopub.execute_input": "2025-01-08T16:42:03.753756Z",
     "iopub.status.busy": "2025-01-08T16:42:03.753244Z",
     "iopub.status.idle": "2025-01-08T16:42:03.760417Z",
     "shell.execute_reply": "2025-01-08T16:42:03.759608Z"
    },
    "papermill": {
     "duration": 0.016053,
     "end_time": "2025-01-08T16:42:03.761832",
     "exception": false,
     "start_time": "2025-01-08T16:42:03.745779",
     "status": "completed"
    },
    "tags": []
   },
   "outputs": [
    {
     "data": {
      "text/plain": [
       "age         0\n",
       "sex         0\n",
       "cp          0\n",
       "trestbps    0\n",
       "chol        0\n",
       "fbs         0\n",
       "restecg     0\n",
       "thalach     0\n",
       "exang       0\n",
       "oldpeak     0\n",
       "slope       0\n",
       "ca          0\n",
       "thal        0\n",
       "target      0\n",
       "dtype: int64"
      ]
     },
     "execution_count": 7,
     "metadata": {},
     "output_type": "execute_result"
    }
   ],
   "source": [
    "# checking for missing values\n",
    "heart_data.isnull().sum()"
   ]
  },
  {
   "cell_type": "code",
   "execution_count": 8,
   "id": "e40aecbf",
   "metadata": {
    "execution": {
     "iopub.execute_input": "2025-01-08T16:42:03.776129Z",
     "iopub.status.busy": "2025-01-08T16:42:03.775780Z",
     "iopub.status.idle": "2025-01-08T16:42:03.817916Z",
     "shell.execute_reply": "2025-01-08T16:42:03.816845Z"
    },
    "papermill": {
     "duration": 0.051167,
     "end_time": "2025-01-08T16:42:03.819627",
     "exception": false,
     "start_time": "2025-01-08T16:42:03.768460",
     "status": "completed"
    },
    "tags": []
   },
   "outputs": [
    {
     "data": {
      "text/html": [
       "<div>\n",
       "<style scoped>\n",
       "    .dataframe tbody tr th:only-of-type {\n",
       "        vertical-align: middle;\n",
       "    }\n",
       "\n",
       "    .dataframe tbody tr th {\n",
       "        vertical-align: top;\n",
       "    }\n",
       "\n",
       "    .dataframe thead th {\n",
       "        text-align: right;\n",
       "    }\n",
       "</style>\n",
       "<table border=\"1\" class=\"dataframe\">\n",
       "  <thead>\n",
       "    <tr style=\"text-align: right;\">\n",
       "      <th></th>\n",
       "      <th>age</th>\n",
       "      <th>sex</th>\n",
       "      <th>cp</th>\n",
       "      <th>trestbps</th>\n",
       "      <th>chol</th>\n",
       "      <th>fbs</th>\n",
       "      <th>restecg</th>\n",
       "      <th>thalach</th>\n",
       "      <th>exang</th>\n",
       "      <th>oldpeak</th>\n",
       "      <th>slope</th>\n",
       "      <th>ca</th>\n",
       "      <th>thal</th>\n",
       "      <th>target</th>\n",
       "    </tr>\n",
       "  </thead>\n",
       "  <tbody>\n",
       "    <tr>\n",
       "      <th>count</th>\n",
       "      <td>303.000000</td>\n",
       "      <td>303.000000</td>\n",
       "      <td>303.000000</td>\n",
       "      <td>303.000000</td>\n",
       "      <td>303.000000</td>\n",
       "      <td>303.000000</td>\n",
       "      <td>303.000000</td>\n",
       "      <td>303.000000</td>\n",
       "      <td>303.000000</td>\n",
       "      <td>303.000000</td>\n",
       "      <td>303.000000</td>\n",
       "      <td>303.000000</td>\n",
       "      <td>303.000000</td>\n",
       "      <td>303.000000</td>\n",
       "    </tr>\n",
       "    <tr>\n",
       "      <th>mean</th>\n",
       "      <td>54.366337</td>\n",
       "      <td>0.683168</td>\n",
       "      <td>0.966997</td>\n",
       "      <td>131.623762</td>\n",
       "      <td>246.264026</td>\n",
       "      <td>0.148515</td>\n",
       "      <td>0.528053</td>\n",
       "      <td>149.646865</td>\n",
       "      <td>0.326733</td>\n",
       "      <td>1.039604</td>\n",
       "      <td>1.399340</td>\n",
       "      <td>0.729373</td>\n",
       "      <td>2.313531</td>\n",
       "      <td>0.544554</td>\n",
       "    </tr>\n",
       "    <tr>\n",
       "      <th>std</th>\n",
       "      <td>9.082101</td>\n",
       "      <td>0.466011</td>\n",
       "      <td>1.032052</td>\n",
       "      <td>17.538143</td>\n",
       "      <td>51.830751</td>\n",
       "      <td>0.356198</td>\n",
       "      <td>0.525860</td>\n",
       "      <td>22.905161</td>\n",
       "      <td>0.469794</td>\n",
       "      <td>1.161075</td>\n",
       "      <td>0.616226</td>\n",
       "      <td>1.022606</td>\n",
       "      <td>0.612277</td>\n",
       "      <td>0.498835</td>\n",
       "    </tr>\n",
       "    <tr>\n",
       "      <th>min</th>\n",
       "      <td>29.000000</td>\n",
       "      <td>0.000000</td>\n",
       "      <td>0.000000</td>\n",
       "      <td>94.000000</td>\n",
       "      <td>126.000000</td>\n",
       "      <td>0.000000</td>\n",
       "      <td>0.000000</td>\n",
       "      <td>71.000000</td>\n",
       "      <td>0.000000</td>\n",
       "      <td>0.000000</td>\n",
       "      <td>0.000000</td>\n",
       "      <td>0.000000</td>\n",
       "      <td>0.000000</td>\n",
       "      <td>0.000000</td>\n",
       "    </tr>\n",
       "    <tr>\n",
       "      <th>25%</th>\n",
       "      <td>47.500000</td>\n",
       "      <td>0.000000</td>\n",
       "      <td>0.000000</td>\n",
       "      <td>120.000000</td>\n",
       "      <td>211.000000</td>\n",
       "      <td>0.000000</td>\n",
       "      <td>0.000000</td>\n",
       "      <td>133.500000</td>\n",
       "      <td>0.000000</td>\n",
       "      <td>0.000000</td>\n",
       "      <td>1.000000</td>\n",
       "      <td>0.000000</td>\n",
       "      <td>2.000000</td>\n",
       "      <td>0.000000</td>\n",
       "    </tr>\n",
       "    <tr>\n",
       "      <th>50%</th>\n",
       "      <td>55.000000</td>\n",
       "      <td>1.000000</td>\n",
       "      <td>1.000000</td>\n",
       "      <td>130.000000</td>\n",
       "      <td>240.000000</td>\n",
       "      <td>0.000000</td>\n",
       "      <td>1.000000</td>\n",
       "      <td>153.000000</td>\n",
       "      <td>0.000000</td>\n",
       "      <td>0.800000</td>\n",
       "      <td>1.000000</td>\n",
       "      <td>0.000000</td>\n",
       "      <td>2.000000</td>\n",
       "      <td>1.000000</td>\n",
       "    </tr>\n",
       "    <tr>\n",
       "      <th>75%</th>\n",
       "      <td>61.000000</td>\n",
       "      <td>1.000000</td>\n",
       "      <td>2.000000</td>\n",
       "      <td>140.000000</td>\n",
       "      <td>274.500000</td>\n",
       "      <td>0.000000</td>\n",
       "      <td>1.000000</td>\n",
       "      <td>166.000000</td>\n",
       "      <td>1.000000</td>\n",
       "      <td>1.600000</td>\n",
       "      <td>2.000000</td>\n",
       "      <td>1.000000</td>\n",
       "      <td>3.000000</td>\n",
       "      <td>1.000000</td>\n",
       "    </tr>\n",
       "    <tr>\n",
       "      <th>max</th>\n",
       "      <td>77.000000</td>\n",
       "      <td>1.000000</td>\n",
       "      <td>3.000000</td>\n",
       "      <td>200.000000</td>\n",
       "      <td>564.000000</td>\n",
       "      <td>1.000000</td>\n",
       "      <td>2.000000</td>\n",
       "      <td>202.000000</td>\n",
       "      <td>1.000000</td>\n",
       "      <td>6.200000</td>\n",
       "      <td>2.000000</td>\n",
       "      <td>4.000000</td>\n",
       "      <td>3.000000</td>\n",
       "      <td>1.000000</td>\n",
       "    </tr>\n",
       "  </tbody>\n",
       "</table>\n",
       "</div>"
      ],
      "text/plain": [
       "              age         sex          cp    trestbps        chol         fbs  \\\n",
       "count  303.000000  303.000000  303.000000  303.000000  303.000000  303.000000   \n",
       "mean    54.366337    0.683168    0.966997  131.623762  246.264026    0.148515   \n",
       "std      9.082101    0.466011    1.032052   17.538143   51.830751    0.356198   \n",
       "min     29.000000    0.000000    0.000000   94.000000  126.000000    0.000000   \n",
       "25%     47.500000    0.000000    0.000000  120.000000  211.000000    0.000000   \n",
       "50%     55.000000    1.000000    1.000000  130.000000  240.000000    0.000000   \n",
       "75%     61.000000    1.000000    2.000000  140.000000  274.500000    0.000000   \n",
       "max     77.000000    1.000000    3.000000  200.000000  564.000000    1.000000   \n",
       "\n",
       "          restecg     thalach       exang     oldpeak       slope          ca  \\\n",
       "count  303.000000  303.000000  303.000000  303.000000  303.000000  303.000000   \n",
       "mean     0.528053  149.646865    0.326733    1.039604    1.399340    0.729373   \n",
       "std      0.525860   22.905161    0.469794    1.161075    0.616226    1.022606   \n",
       "min      0.000000   71.000000    0.000000    0.000000    0.000000    0.000000   \n",
       "25%      0.000000  133.500000    0.000000    0.000000    1.000000    0.000000   \n",
       "50%      1.000000  153.000000    0.000000    0.800000    1.000000    0.000000   \n",
       "75%      1.000000  166.000000    1.000000    1.600000    2.000000    1.000000   \n",
       "max      2.000000  202.000000    1.000000    6.200000    2.000000    4.000000   \n",
       "\n",
       "             thal      target  \n",
       "count  303.000000  303.000000  \n",
       "mean     2.313531    0.544554  \n",
       "std      0.612277    0.498835  \n",
       "min      0.000000    0.000000  \n",
       "25%      2.000000    0.000000  \n",
       "50%      2.000000    1.000000  \n",
       "75%      3.000000    1.000000  \n",
       "max      3.000000    1.000000  "
      ]
     },
     "execution_count": 8,
     "metadata": {},
     "output_type": "execute_result"
    }
   ],
   "source": [
    "# statistical measures about the data\n",
    "heart_data.describe()"
   ]
  },
  {
   "cell_type": "code",
   "execution_count": 9,
   "id": "4d98617b",
   "metadata": {
    "execution": {
     "iopub.execute_input": "2025-01-08T16:42:03.835050Z",
     "iopub.status.busy": "2025-01-08T16:42:03.834661Z",
     "iopub.status.idle": "2025-01-08T16:42:03.843654Z",
     "shell.execute_reply": "2025-01-08T16:42:03.842495Z"
    },
    "papermill": {
     "duration": 0.019313,
     "end_time": "2025-01-08T16:42:03.845834",
     "exception": false,
     "start_time": "2025-01-08T16:42:03.826521",
     "status": "completed"
    },
    "tags": []
   },
   "outputs": [
    {
     "data": {
      "text/plain": [
       "target\n",
       "1    165\n",
       "0    138\n",
       "Name: count, dtype: int64"
      ]
     },
     "execution_count": 9,
     "metadata": {},
     "output_type": "execute_result"
    }
   ],
   "source": [
    "# checking the distribution of Target Variable\n",
    "heart_data['target'].value_counts()"
   ]
  },
  {
   "cell_type": "markdown",
   "id": "fc642806",
   "metadata": {
    "papermill": {
     "duration": 0.006495,
     "end_time": "2025-01-08T16:42:03.859265",
     "exception": false,
     "start_time": "2025-01-08T16:42:03.852770",
     "status": "completed"
    },
    "tags": []
   },
   "source": [
    "1 --> Defective Heart\n",
    "\n",
    "0 --> Healthy Heart"
   ]
  },
  {
   "cell_type": "markdown",
   "id": "dd2d537b",
   "metadata": {
    "papermill": {
     "duration": 0.006473,
     "end_time": "2025-01-08T16:42:03.872994",
     "exception": false,
     "start_time": "2025-01-08T16:42:03.866521",
     "status": "completed"
    },
    "tags": []
   },
   "source": [
    "## Splitting the Features and Target"
   ]
  },
  {
   "cell_type": "code",
   "execution_count": 10,
   "id": "6916fbaf",
   "metadata": {
    "execution": {
     "iopub.execute_input": "2025-01-08T16:42:03.887846Z",
     "iopub.status.busy": "2025-01-08T16:42:03.887428Z",
     "iopub.status.idle": "2025-01-08T16:42:03.896232Z",
     "shell.execute_reply": "2025-01-08T16:42:03.895036Z"
    },
    "papermill": {
     "duration": 0.018256,
     "end_time": "2025-01-08T16:42:03.898008",
     "exception": false,
     "start_time": "2025-01-08T16:42:03.879752",
     "status": "completed"
    },
    "tags": []
   },
   "outputs": [],
   "source": [
    "X = heart_data.drop(columns='target', axis=1)\n",
    "Y = heart_data['target']"
   ]
  },
  {
   "cell_type": "code",
   "execution_count": 11,
   "id": "ed3564b2",
   "metadata": {
    "execution": {
     "iopub.execute_input": "2025-01-08T16:42:03.913508Z",
     "iopub.status.busy": "2025-01-08T16:42:03.913143Z",
     "iopub.status.idle": "2025-01-08T16:42:03.923755Z",
     "shell.execute_reply": "2025-01-08T16:42:03.922465Z"
    },
    "papermill": {
     "duration": 0.020576,
     "end_time": "2025-01-08T16:42:03.925608",
     "exception": false,
     "start_time": "2025-01-08T16:42:03.905032",
     "status": "completed"
    },
    "tags": []
   },
   "outputs": [
    {
     "name": "stdout",
     "output_type": "stream",
     "text": [
      "     age  sex  cp  trestbps  chol  fbs  restecg  thalach  exang  oldpeak  \\\n",
      "0     63    1   3       145   233    1        0      150      0      2.3   \n",
      "1     37    1   2       130   250    0        1      187      0      3.5   \n",
      "2     41    0   1       130   204    0        0      172      0      1.4   \n",
      "3     56    1   1       120   236    0        1      178      0      0.8   \n",
      "4     57    0   0       120   354    0        1      163      1      0.6   \n",
      "..   ...  ...  ..       ...   ...  ...      ...      ...    ...      ...   \n",
      "298   57    0   0       140   241    0        1      123      1      0.2   \n",
      "299   45    1   3       110   264    0        1      132      0      1.2   \n",
      "300   68    1   0       144   193    1        1      141      0      3.4   \n",
      "301   57    1   0       130   131    0        1      115      1      1.2   \n",
      "302   57    0   1       130   236    0        0      174      0      0.0   \n",
      "\n",
      "     slope  ca  thal  \n",
      "0        0   0     1  \n",
      "1        0   0     2  \n",
      "2        2   0     2  \n",
      "3        2   0     2  \n",
      "4        2   0     2  \n",
      "..     ...  ..   ...  \n",
      "298      1   0     3  \n",
      "299      1   0     3  \n",
      "300      1   2     3  \n",
      "301      1   1     3  \n",
      "302      1   1     2  \n",
      "\n",
      "[303 rows x 13 columns]\n"
     ]
    }
   ],
   "source": [
    "print(X)"
   ]
  },
  {
   "cell_type": "code",
   "execution_count": 12,
   "id": "932207fb",
   "metadata": {
    "execution": {
     "iopub.execute_input": "2025-01-08T16:42:03.941593Z",
     "iopub.status.busy": "2025-01-08T16:42:03.941216Z",
     "iopub.status.idle": "2025-01-08T16:42:03.946737Z",
     "shell.execute_reply": "2025-01-08T16:42:03.945665Z"
    },
    "papermill": {
     "duration": 0.015101,
     "end_time": "2025-01-08T16:42:03.948328",
     "exception": false,
     "start_time": "2025-01-08T16:42:03.933227",
     "status": "completed"
    },
    "tags": []
   },
   "outputs": [
    {
     "name": "stdout",
     "output_type": "stream",
     "text": [
      "0      1\n",
      "1      1\n",
      "2      1\n",
      "3      1\n",
      "4      1\n",
      "      ..\n",
      "298    0\n",
      "299    0\n",
      "300    0\n",
      "301    0\n",
      "302    0\n",
      "Name: target, Length: 303, dtype: int64\n"
     ]
    }
   ],
   "source": [
    "print(Y)"
   ]
  },
  {
   "cell_type": "markdown",
   "id": "cbc81f8a",
   "metadata": {
    "papermill": {
     "duration": 0.006712,
     "end_time": "2025-01-08T16:42:03.962370",
     "exception": false,
     "start_time": "2025-01-08T16:42:03.955658",
     "status": "completed"
    },
    "tags": []
   },
   "source": [
    "## Splitting the Data into Training data & Test data"
   ]
  },
  {
   "cell_type": "code",
   "execution_count": 13,
   "id": "51d531a6",
   "metadata": {
    "execution": {
     "iopub.execute_input": "2025-01-08T16:42:03.977924Z",
     "iopub.status.busy": "2025-01-08T16:42:03.977485Z",
     "iopub.status.idle": "2025-01-08T16:42:03.986960Z",
     "shell.execute_reply": "2025-01-08T16:42:03.985915Z"
    },
    "papermill": {
     "duration": 0.019615,
     "end_time": "2025-01-08T16:42:03.988910",
     "exception": false,
     "start_time": "2025-01-08T16:42:03.969295",
     "status": "completed"
    },
    "tags": []
   },
   "outputs": [],
   "source": [
    "X_train, X_test, Y_train, Y_test = train_test_split(X, Y, test_size=0.2, stratify=Y, random_state=2)"
   ]
  },
  {
   "cell_type": "code",
   "execution_count": 14,
   "id": "e6054de9",
   "metadata": {
    "execution": {
     "iopub.execute_input": "2025-01-08T16:42:04.005001Z",
     "iopub.status.busy": "2025-01-08T16:42:04.004515Z",
     "iopub.status.idle": "2025-01-08T16:42:04.010873Z",
     "shell.execute_reply": "2025-01-08T16:42:04.009806Z"
    },
    "papermill": {
     "duration": 0.016531,
     "end_time": "2025-01-08T16:42:04.012687",
     "exception": false,
     "start_time": "2025-01-08T16:42:03.996156",
     "status": "completed"
    },
    "tags": []
   },
   "outputs": [
    {
     "name": "stdout",
     "output_type": "stream",
     "text": [
      "(303, 13) (242, 13) (61, 13)\n"
     ]
    }
   ],
   "source": [
    "print(X.shape, X_train.shape, X_test.shape)"
   ]
  },
  {
   "cell_type": "markdown",
   "id": "1821c8ac",
   "metadata": {
    "papermill": {
     "duration": 0.006904,
     "end_time": "2025-01-08T16:42:04.027505",
     "exception": false,
     "start_time": "2025-01-08T16:42:04.020601",
     "status": "completed"
    },
    "tags": []
   },
   "source": [
    "## Logistic Regression"
   ]
  },
  {
   "cell_type": "code",
   "execution_count": 15,
   "id": "1b98fcba",
   "metadata": {
    "execution": {
     "iopub.execute_input": "2025-01-08T16:42:04.043130Z",
     "iopub.status.busy": "2025-01-08T16:42:04.042779Z",
     "iopub.status.idle": "2025-01-08T16:42:04.047223Z",
     "shell.execute_reply": "2025-01-08T16:42:04.045912Z"
    },
    "papermill": {
     "duration": 0.014396,
     "end_time": "2025-01-08T16:42:04.049026",
     "exception": false,
     "start_time": "2025-01-08T16:42:04.034630",
     "status": "completed"
    },
    "tags": []
   },
   "outputs": [],
   "source": [
    "model = LogisticRegression()"
   ]
  },
  {
   "cell_type": "code",
   "execution_count": 16,
   "id": "d18dae60",
   "metadata": {
    "execution": {
     "iopub.execute_input": "2025-01-08T16:42:04.064807Z",
     "iopub.status.busy": "2025-01-08T16:42:04.064259Z",
     "iopub.status.idle": "2025-01-08T16:42:04.109833Z",
     "shell.execute_reply": "2025-01-08T16:42:04.108565Z"
    },
    "papermill": {
     "duration": 0.055441,
     "end_time": "2025-01-08T16:42:04.111744",
     "exception": false,
     "start_time": "2025-01-08T16:42:04.056303",
     "status": "completed"
    },
    "tags": []
   },
   "outputs": [
    {
     "name": "stderr",
     "output_type": "stream",
     "text": [
      "/usr/local/lib/python3.10/dist-packages/sklearn/linear_model/_logistic.py:458: ConvergenceWarning: lbfgs failed to converge (status=1):\n",
      "STOP: TOTAL NO. of ITERATIONS REACHED LIMIT.\n",
      "\n",
      "Increase the number of iterations (max_iter) or scale the data as shown in:\n",
      "    https://scikit-learn.org/stable/modules/preprocessing.html\n",
      "Please also refer to the documentation for alternative solver options:\n",
      "    https://scikit-learn.org/stable/modules/linear_model.html#logistic-regression\n",
      "  n_iter_i = _check_optimize_result(\n"
     ]
    },
    {
     "data": {
      "text/html": [
       "<style>#sk-container-id-1 {color: black;background-color: white;}#sk-container-id-1 pre{padding: 0;}#sk-container-id-1 div.sk-toggleable {background-color: white;}#sk-container-id-1 label.sk-toggleable__label {cursor: pointer;display: block;width: 100%;margin-bottom: 0;padding: 0.3em;box-sizing: border-box;text-align: center;}#sk-container-id-1 label.sk-toggleable__label-arrow:before {content: \"▸\";float: left;margin-right: 0.25em;color: #696969;}#sk-container-id-1 label.sk-toggleable__label-arrow:hover:before {color: black;}#sk-container-id-1 div.sk-estimator:hover label.sk-toggleable__label-arrow:before {color: black;}#sk-container-id-1 div.sk-toggleable__content {max-height: 0;max-width: 0;overflow: hidden;text-align: left;background-color: #f0f8ff;}#sk-container-id-1 div.sk-toggleable__content pre {margin: 0.2em;color: black;border-radius: 0.25em;background-color: #f0f8ff;}#sk-container-id-1 input.sk-toggleable__control:checked~div.sk-toggleable__content {max-height: 200px;max-width: 100%;overflow: auto;}#sk-container-id-1 input.sk-toggleable__control:checked~label.sk-toggleable__label-arrow:before {content: \"▾\";}#sk-container-id-1 div.sk-estimator input.sk-toggleable__control:checked~label.sk-toggleable__label {background-color: #d4ebff;}#sk-container-id-1 div.sk-label input.sk-toggleable__control:checked~label.sk-toggleable__label {background-color: #d4ebff;}#sk-container-id-1 input.sk-hidden--visually {border: 0;clip: rect(1px 1px 1px 1px);clip: rect(1px, 1px, 1px, 1px);height: 1px;margin: -1px;overflow: hidden;padding: 0;position: absolute;width: 1px;}#sk-container-id-1 div.sk-estimator {font-family: monospace;background-color: #f0f8ff;border: 1px dotted black;border-radius: 0.25em;box-sizing: border-box;margin-bottom: 0.5em;}#sk-container-id-1 div.sk-estimator:hover {background-color: #d4ebff;}#sk-container-id-1 div.sk-parallel-item::after {content: \"\";width: 100%;border-bottom: 1px solid gray;flex-grow: 1;}#sk-container-id-1 div.sk-label:hover label.sk-toggleable__label {background-color: #d4ebff;}#sk-container-id-1 div.sk-serial::before {content: \"\";position: absolute;border-left: 1px solid gray;box-sizing: border-box;top: 0;bottom: 0;left: 50%;z-index: 0;}#sk-container-id-1 div.sk-serial {display: flex;flex-direction: column;align-items: center;background-color: white;padding-right: 0.2em;padding-left: 0.2em;position: relative;}#sk-container-id-1 div.sk-item {position: relative;z-index: 1;}#sk-container-id-1 div.sk-parallel {display: flex;align-items: stretch;justify-content: center;background-color: white;position: relative;}#sk-container-id-1 div.sk-item::before, #sk-container-id-1 div.sk-parallel-item::before {content: \"\";position: absolute;border-left: 1px solid gray;box-sizing: border-box;top: 0;bottom: 0;left: 50%;z-index: -1;}#sk-container-id-1 div.sk-parallel-item {display: flex;flex-direction: column;z-index: 1;position: relative;background-color: white;}#sk-container-id-1 div.sk-parallel-item:first-child::after {align-self: flex-end;width: 50%;}#sk-container-id-1 div.sk-parallel-item:last-child::after {align-self: flex-start;width: 50%;}#sk-container-id-1 div.sk-parallel-item:only-child::after {width: 0;}#sk-container-id-1 div.sk-dashed-wrapped {border: 1px dashed gray;margin: 0 0.4em 0.5em 0.4em;box-sizing: border-box;padding-bottom: 0.4em;background-color: white;}#sk-container-id-1 div.sk-label label {font-family: monospace;font-weight: bold;display: inline-block;line-height: 1.2em;}#sk-container-id-1 div.sk-label-container {text-align: center;}#sk-container-id-1 div.sk-container {/* jupyter's `normalize.less` sets `[hidden] { display: none; }` but bootstrap.min.css set `[hidden] { display: none !important; }` so we also need the `!important` here to be able to override the default hidden behavior on the sphinx rendered scikit-learn.org. See: https://github.com/scikit-learn/scikit-learn/issues/21755 */display: inline-block !important;position: relative;}#sk-container-id-1 div.sk-text-repr-fallback {display: none;}</style><div id=\"sk-container-id-1\" class=\"sk-top-container\"><div class=\"sk-text-repr-fallback\"><pre>LogisticRegression()</pre><b>In a Jupyter environment, please rerun this cell to show the HTML representation or trust the notebook. <br />On GitHub, the HTML representation is unable to render, please try loading this page with nbviewer.org.</b></div><div class=\"sk-container\" hidden><div class=\"sk-item\"><div class=\"sk-estimator sk-toggleable\"><input class=\"sk-toggleable__control sk-hidden--visually\" id=\"sk-estimator-id-1\" type=\"checkbox\" checked><label for=\"sk-estimator-id-1\" class=\"sk-toggleable__label sk-toggleable__label-arrow\">LogisticRegression</label><div class=\"sk-toggleable__content\"><pre>LogisticRegression()</pre></div></div></div></div></div>"
      ],
      "text/plain": [
       "LogisticRegression()"
      ]
     },
     "execution_count": 16,
     "metadata": {},
     "output_type": "execute_result"
    }
   ],
   "source": [
    "# training the Logistic Regression model with Training data\n",
    "model.fit(X_train, Y_train)"
   ]
  },
  {
   "cell_type": "markdown",
   "id": "8e515bf9",
   "metadata": {
    "papermill": {
     "duration": 0.007244,
     "end_time": "2025-01-08T16:42:04.126798",
     "exception": false,
     "start_time": "2025-01-08T16:42:04.119554",
     "status": "completed"
    },
    "tags": []
   },
   "source": [
    "## Model Evaluation\n",
    "\n",
    "\n",
    "## Accuracy Score"
   ]
  },
  {
   "cell_type": "code",
   "execution_count": 17,
   "id": "c4ecc03a",
   "metadata": {
    "execution": {
     "iopub.execute_input": "2025-01-08T16:42:04.142867Z",
     "iopub.status.busy": "2025-01-08T16:42:04.142474Z",
     "iopub.status.idle": "2025-01-08T16:42:04.149773Z",
     "shell.execute_reply": "2025-01-08T16:42:04.148740Z"
    },
    "papermill": {
     "duration": 0.017361,
     "end_time": "2025-01-08T16:42:04.151592",
     "exception": false,
     "start_time": "2025-01-08T16:42:04.134231",
     "status": "completed"
    },
    "tags": []
   },
   "outputs": [],
   "source": [
    "# accuracy on training data\n",
    "X_train_prediction = model.predict(X_train)\n",
    "training_data_accuracy = accuracy_score(X_train_prediction, Y_train)"
   ]
  },
  {
   "cell_type": "code",
   "execution_count": 18,
   "id": "ce6d23ab",
   "metadata": {
    "execution": {
     "iopub.execute_input": "2025-01-08T16:42:04.168415Z",
     "iopub.status.busy": "2025-01-08T16:42:04.168051Z",
     "iopub.status.idle": "2025-01-08T16:42:04.173672Z",
     "shell.execute_reply": "2025-01-08T16:42:04.172520Z"
    },
    "papermill": {
     "duration": 0.015889,
     "end_time": "2025-01-08T16:42:04.175476",
     "exception": false,
     "start_time": "2025-01-08T16:42:04.159587",
     "status": "completed"
    },
    "tags": []
   },
   "outputs": [
    {
     "name": "stdout",
     "output_type": "stream",
     "text": [
      "Accuracy on Training data: 0.8512396694214877\n"
     ]
    }
   ],
   "source": [
    "print(\"Accuracy on Training data:\", training_data_accuracy)"
   ]
  },
  {
   "cell_type": "code",
   "execution_count": 19,
   "id": "18b9e89e",
   "metadata": {
    "execution": {
     "iopub.execute_input": "2025-01-08T16:42:04.193572Z",
     "iopub.status.busy": "2025-01-08T16:42:04.193177Z",
     "iopub.status.idle": "2025-01-08T16:42:04.200964Z",
     "shell.execute_reply": "2025-01-08T16:42:04.199796Z"
    },
    "papermill": {
     "duration": 0.019487,
     "end_time": "2025-01-08T16:42:04.202689",
     "exception": false,
     "start_time": "2025-01-08T16:42:04.183202",
     "status": "completed"
    },
    "tags": []
   },
   "outputs": [],
   "source": [
    "# accuracy on test data\n",
    "X_test_prediction = model.predict(X_test)\n",
    "test_data_accuracy = accuracy_score(X_test_prediction, Y_test)"
   ]
  },
  {
   "cell_type": "code",
   "execution_count": 20,
   "id": "dc9da008",
   "metadata": {
    "execution": {
     "iopub.execute_input": "2025-01-08T16:42:04.219153Z",
     "iopub.status.busy": "2025-01-08T16:42:04.218782Z",
     "iopub.status.idle": "2025-01-08T16:42:04.224285Z",
     "shell.execute_reply": "2025-01-08T16:42:04.223102Z"
    },
    "papermill": {
     "duration": 0.015677,
     "end_time": "2025-01-08T16:42:04.226133",
     "exception": false,
     "start_time": "2025-01-08T16:42:04.210456",
     "status": "completed"
    },
    "tags": []
   },
   "outputs": [
    {
     "name": "stdout",
     "output_type": "stream",
     "text": [
      "Accuracey on Test data: 0.819672131147541\n"
     ]
    }
   ],
   "source": [
    "print(\"Accuracey on Test data:\", test_data_accuracy)"
   ]
  },
  {
   "cell_type": "markdown",
   "id": "1dd4038a",
   "metadata": {
    "papermill": {
     "duration": 0.007794,
     "end_time": "2025-01-08T16:42:04.241793",
     "exception": false,
     "start_time": "2025-01-08T16:42:04.233999",
     "status": "completed"
    },
    "tags": []
   },
   "source": [
    "## Building a Predictive System"
   ]
  },
  {
   "cell_type": "code",
   "execution_count": 21,
   "id": "bc1c4d9d",
   "metadata": {
    "execution": {
     "iopub.execute_input": "2025-01-08T16:42:04.258355Z",
     "iopub.status.busy": "2025-01-08T16:42:04.258026Z",
     "iopub.status.idle": "2025-01-08T16:42:04.267066Z",
     "shell.execute_reply": "2025-01-08T16:42:04.265795Z"
    },
    "papermill": {
     "duration": 0.019383,
     "end_time": "2025-01-08T16:42:04.268821",
     "exception": false,
     "start_time": "2025-01-08T16:42:04.249438",
     "status": "completed"
    },
    "tags": []
   },
   "outputs": [
    {
     "name": "stdout",
     "output_type": "stream",
     "text": [
      "The Person has a Heart Disease\n"
     ]
    }
   ],
   "source": [
    "# Define the input data as a dictionary with feature names matching the training data\n",
    "input_data = {\n",
    "    'age': 41,\n",
    "    'sex': 0,\n",
    "    'cp': 1,\n",
    "    'trestbps': 130,\n",
    "    'chol': 204,\n",
    "    'fbs': 0,\n",
    "    'restecg': 0,\n",
    "    'thalach': 172,\n",
    "    'exang': 0,\n",
    "    'oldpeak': 1.4,\n",
    "    'slope': 2,\n",
    "    'ca': 0,\n",
    "    'thal': 2\n",
    "}\n",
    "\n",
    "# Convert the input data to a DataFrame\n",
    "input_data_df = pd.DataFrame([input_data])\n",
    "\n",
    "# Make predictions\n",
    "prediction = model.predict(input_data_df)\n",
    "\n",
    "# Output the result\n",
    "if prediction[0] == 0: \n",
    "    print(\"The Person does not have a Heart Disease\")\n",
    "else:\n",
    "    print(\"The Person has a Heart Disease\")\n"
   ]
  },
  {
   "cell_type": "markdown",
   "id": "bc0cedee",
   "metadata": {
    "papermill": {
     "duration": 0.00725,
     "end_time": "2025-01-08T16:42:04.283919",
     "exception": false,
     "start_time": "2025-01-08T16:42:04.276669",
     "status": "completed"
    },
    "tags": []
   },
   "source": [
    "## Saving the Trained Model"
   ]
  },
  {
   "cell_type": "code",
   "execution_count": 22,
   "id": "bdce3758",
   "metadata": {
    "execution": {
     "iopub.execute_input": "2025-01-08T16:42:04.300329Z",
     "iopub.status.busy": "2025-01-08T16:42:04.299989Z",
     "iopub.status.idle": "2025-01-08T16:42:04.303970Z",
     "shell.execute_reply": "2025-01-08T16:42:04.303014Z"
    },
    "papermill": {
     "duration": 0.014071,
     "end_time": "2025-01-08T16:42:04.305565",
     "exception": false,
     "start_time": "2025-01-08T16:42:04.291494",
     "status": "completed"
    },
    "tags": []
   },
   "outputs": [],
   "source": [
    "import pickle"
   ]
  },
  {
   "cell_type": "code",
   "execution_count": 23,
   "id": "5c98a54a",
   "metadata": {
    "execution": {
     "iopub.execute_input": "2025-01-08T16:42:04.322295Z",
     "iopub.status.busy": "2025-01-08T16:42:04.321926Z",
     "iopub.status.idle": "2025-01-08T16:42:04.326814Z",
     "shell.execute_reply": "2025-01-08T16:42:04.325794Z"
    },
    "papermill": {
     "duration": 0.0151,
     "end_time": "2025-01-08T16:42:04.328432",
     "exception": false,
     "start_time": "2025-01-08T16:42:04.313332",
     "status": "completed"
    },
    "tags": []
   },
   "outputs": [],
   "source": [
    "filename = 'heart_disease_model.sav'\n",
    "pickle.dump(model, open(filename, 'wb'))"
   ]
  }
 ],
 "metadata": {
  "kaggle": {
   "accelerator": "none",
   "dataSources": [
    {
     "datasetId": 6439134,
     "sourceId": 10393117,
     "sourceType": "datasetVersion"
    }
   ],
   "dockerImageVersionId": 30822,
   "isGpuEnabled": false,
   "isInternetEnabled": true,
   "language": "python",
   "sourceType": "notebook"
  },
  "kernelspec": {
   "display_name": "Python 3",
   "language": "python",
   "name": "python3"
  },
  "language_info": {
   "codemirror_mode": {
    "name": "ipython",
    "version": 3
   },
   "file_extension": ".py",
   "mimetype": "text/x-python",
   "name": "python",
   "nbconvert_exporter": "python",
   "pygments_lexer": "ipython3",
   "version": "3.10.12"
  },
  "papermill": {
   "default_parameters": {},
   "duration": 5.712339,
   "end_time": "2025-01-08T16:42:04.956011",
   "environment_variables": {},
   "exception": null,
   "input_path": "__notebook__.ipynb",
   "output_path": "__notebook__.ipynb",
   "parameters": {},
   "start_time": "2025-01-08T16:41:59.243672",
   "version": "2.6.0"
  }
 },
 "nbformat": 4,
 "nbformat_minor": 5
}
